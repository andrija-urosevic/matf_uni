{
 "cells": [
  {
   "cell_type": "markdown",
   "id": "0d95c139",
   "metadata": {},
   "source": [
    "# Klasterovanje K-Sredina\n",
    "\n",
    "Klasterovanje spada u nenadgledano ucenje, tj. pronalazimo sablone u podacima. Klasterovanje pronalazi grupe medju podacima tako da su objekti unutar jedne grupe slicniji od bilo kog objekta druge grupe.\n",
    "\n",
    "## Predprocesiranje"
   ]
  },
  {
   "cell_type": "code",
   "execution_count": 29,
   "id": "ad34f4bb",
   "metadata": {},
   "outputs": [
    {
     "data": {
      "text/html": [
       "<div>\n",
       "<style scoped>\n",
       "    .dataframe tbody tr th:only-of-type {\n",
       "        vertical-align: middle;\n",
       "    }\n",
       "\n",
       "    .dataframe tbody tr th {\n",
       "        vertical-align: top;\n",
       "    }\n",
       "\n",
       "    .dataframe thead th {\n",
       "        text-align: right;\n",
       "    }\n",
       "</style>\n",
       "<table border=\"1\" class=\"dataframe\">\n",
       "  <thead>\n",
       "    <tr style=\"text-align: right;\">\n",
       "      <th></th>\n",
       "      <th>breed</th>\n",
       "      <th>height</th>\n",
       "      <th>weight</th>\n",
       "    </tr>\n",
       "  </thead>\n",
       "  <tbody>\n",
       "    <tr>\n",
       "      <th>0</th>\n",
       "      <td>Border Collie</td>\n",
       "      <td>20</td>\n",
       "      <td>45</td>\n",
       "    </tr>\n",
       "    <tr>\n",
       "      <th>1</th>\n",
       "      <td>Boston Terrier</td>\n",
       "      <td>16</td>\n",
       "      <td>20</td>\n",
       "    </tr>\n",
       "    <tr>\n",
       "      <th>2</th>\n",
       "      <td>Brittany Spaniel</td>\n",
       "      <td>18</td>\n",
       "      <td>35</td>\n",
       "    </tr>\n",
       "    <tr>\n",
       "      <th>3</th>\n",
       "      <td>Bullmastiff</td>\n",
       "      <td>27</td>\n",
       "      <td>120</td>\n",
       "    </tr>\n",
       "    <tr>\n",
       "      <th>4</th>\n",
       "      <td>Chihuahua</td>\n",
       "      <td>8</td>\n",
       "      <td>8</td>\n",
       "    </tr>\n",
       "  </tbody>\n",
       "</table>\n",
       "</div>"
      ],
      "text/plain": [
       "              breed  height  weight\n",
       "0     Border Collie      20      45\n",
       "1    Boston Terrier      16      20\n",
       "2  Brittany Spaniel      18      35\n",
       "3       Bullmastiff      27     120\n",
       "4         Chihuahua       8       8"
      ]
     },
     "execution_count": 29,
     "metadata": {},
     "output_type": "execute_result"
    }
   ],
   "source": [
    "import pandas as pd\n",
    "\n",
    "df = pd.read_csv('Data/dogs.csv')\n",
    "df.head()"
   ]
  },
  {
   "cell_type": "code",
   "execution_count": 30,
   "id": "4c21241d",
   "metadata": {},
   "outputs": [
    {
     "data": {
      "text/html": [
       "<div>\n",
       "<style scoped>\n",
       "    .dataframe tbody tr th:only-of-type {\n",
       "        vertical-align: middle;\n",
       "    }\n",
       "\n",
       "    .dataframe tbody tr th {\n",
       "        vertical-align: top;\n",
       "    }\n",
       "\n",
       "    .dataframe thead th {\n",
       "        text-align: right;\n",
       "    }\n",
       "</style>\n",
       "<table border=\"1\" class=\"dataframe\">\n",
       "  <thead>\n",
       "    <tr style=\"text-align: right;\">\n",
       "      <th></th>\n",
       "      <th>height</th>\n",
       "      <th>weight</th>\n",
       "    </tr>\n",
       "  </thead>\n",
       "  <tbody>\n",
       "    <tr>\n",
       "      <th>0</th>\n",
       "      <td>20</td>\n",
       "      <td>45</td>\n",
       "    </tr>\n",
       "    <tr>\n",
       "      <th>1</th>\n",
       "      <td>16</td>\n",
       "      <td>20</td>\n",
       "    </tr>\n",
       "    <tr>\n",
       "      <th>2</th>\n",
       "      <td>18</td>\n",
       "      <td>35</td>\n",
       "    </tr>\n",
       "    <tr>\n",
       "      <th>3</th>\n",
       "      <td>27</td>\n",
       "      <td>120</td>\n",
       "    </tr>\n",
       "    <tr>\n",
       "      <th>4</th>\n",
       "      <td>8</td>\n",
       "      <td>8</td>\n",
       "    </tr>\n",
       "    <tr>\n",
       "      <th>5</th>\n",
       "      <td>25</td>\n",
       "      <td>78</td>\n",
       "    </tr>\n",
       "    <tr>\n",
       "      <th>6</th>\n",
       "      <td>23</td>\n",
       "      <td>70</td>\n",
       "    </tr>\n",
       "    <tr>\n",
       "      <th>7</th>\n",
       "      <td>32</td>\n",
       "      <td>160</td>\n",
       "    </tr>\n",
       "    <tr>\n",
       "      <th>8</th>\n",
       "      <td>21</td>\n",
       "      <td>50</td>\n",
       "    </tr>\n",
       "    <tr>\n",
       "      <th>9</th>\n",
       "      <td>19</td>\n",
       "      <td>65</td>\n",
       "    </tr>\n",
       "    <tr>\n",
       "      <th>10</th>\n",
       "      <td>6</td>\n",
       "      <td>7</td>\n",
       "    </tr>\n",
       "  </tbody>\n",
       "</table>\n",
       "</div>"
      ],
      "text/plain": [
       "    height  weight\n",
       "0       20      45\n",
       "1       16      20\n",
       "2       18      35\n",
       "3       27     120\n",
       "4        8       8\n",
       "5       25      78\n",
       "6       23      70\n",
       "7       32     160\n",
       "8       21      50\n",
       "9       19      65\n",
       "10       6       7"
      ]
     },
     "execution_count": 30,
     "metadata": {},
     "output_type": "execute_result"
    }
   ],
   "source": [
    "X = df.drop('breed', axis=1)\n",
    "X"
   ]
  },
  {
   "cell_type": "code",
   "execution_count": 31,
   "id": "67650327",
   "metadata": {},
   "outputs": [
    {
     "data": {
      "text/html": [
       "<div>\n",
       "<style scoped>\n",
       "    .dataframe tbody tr th:only-of-type {\n",
       "        vertical-align: middle;\n",
       "    }\n",
       "\n",
       "    .dataframe tbody tr th {\n",
       "        vertical-align: top;\n",
       "    }\n",
       "\n",
       "    .dataframe thead th {\n",
       "        text-align: right;\n",
       "    }\n",
       "</style>\n",
       "<table border=\"1\" class=\"dataframe\">\n",
       "  <thead>\n",
       "    <tr style=\"text-align: right;\">\n",
       "      <th></th>\n",
       "      <th>height</th>\n",
       "      <th>weight</th>\n",
       "    </tr>\n",
       "  </thead>\n",
       "  <tbody>\n",
       "    <tr>\n",
       "      <th>0</th>\n",
       "      <td>0.538462</td>\n",
       "      <td>0.248366</td>\n",
       "    </tr>\n",
       "    <tr>\n",
       "      <th>1</th>\n",
       "      <td>0.384615</td>\n",
       "      <td>0.084967</td>\n",
       "    </tr>\n",
       "    <tr>\n",
       "      <th>2</th>\n",
       "      <td>0.461538</td>\n",
       "      <td>0.183007</td>\n",
       "    </tr>\n",
       "    <tr>\n",
       "      <th>3</th>\n",
       "      <td>0.807692</td>\n",
       "      <td>0.738562</td>\n",
       "    </tr>\n",
       "    <tr>\n",
       "      <th>4</th>\n",
       "      <td>0.076923</td>\n",
       "      <td>0.006536</td>\n",
       "    </tr>\n",
       "    <tr>\n",
       "      <th>5</th>\n",
       "      <td>0.730769</td>\n",
       "      <td>0.464052</td>\n",
       "    </tr>\n",
       "    <tr>\n",
       "      <th>6</th>\n",
       "      <td>0.653846</td>\n",
       "      <td>0.411765</td>\n",
       "    </tr>\n",
       "    <tr>\n",
       "      <th>7</th>\n",
       "      <td>1.000000</td>\n",
       "      <td>1.000000</td>\n",
       "    </tr>\n",
       "    <tr>\n",
       "      <th>8</th>\n",
       "      <td>0.576923</td>\n",
       "      <td>0.281046</td>\n",
       "    </tr>\n",
       "    <tr>\n",
       "      <th>9</th>\n",
       "      <td>0.500000</td>\n",
       "      <td>0.379085</td>\n",
       "    </tr>\n",
       "    <tr>\n",
       "      <th>10</th>\n",
       "      <td>0.000000</td>\n",
       "      <td>0.000000</td>\n",
       "    </tr>\n",
       "  </tbody>\n",
       "</table>\n",
       "</div>"
      ],
      "text/plain": [
       "      height    weight\n",
       "0   0.538462  0.248366\n",
       "1   0.384615  0.084967\n",
       "2   0.461538  0.183007\n",
       "3   0.807692  0.738562\n",
       "4   0.076923  0.006536\n",
       "5   0.730769  0.464052\n",
       "6   0.653846  0.411765\n",
       "7   1.000000  1.000000\n",
       "8   0.576923  0.281046\n",
       "9   0.500000  0.379085\n",
       "10  0.000000  0.000000"
      ]
     },
     "execution_count": 31,
     "metadata": {},
     "output_type": "execute_result"
    }
   ],
   "source": [
    "from sklearn.preprocessing import MinMaxScaler\n",
    "\n",
    "scaler = MinMaxScaler()\n",
    "scaler.fit(X)\n",
    "X = pd.DataFrame(scaler.transform(X), columns=['height', 'weight'])\n",
    "X"
   ]
  },
  {
   "cell_type": "markdown",
   "id": "b8c7b8dd",
   "metadata": {},
   "source": [
    "## K-sredina"
   ]
  },
  {
   "cell_type": "code",
   "execution_count": 32,
   "id": "8e8a75f8",
   "metadata": {},
   "outputs": [
    {
     "name": "stdout",
     "output_type": "stream",
     "text": [
      "Centroids:\n",
      " [[0.36263736 0.16900093]\n",
      " [0.79807692 0.65359477]]\n",
      "SSE:\n",
      " 0.732128510026434\n"
     ]
    }
   ],
   "source": [
    "from sklearn.cluster import KMeans\n",
    "\n",
    "k_means = KMeans(n_clusters=2, init='k-means++')\n",
    "k_means.fit(X)\n",
    "\n",
    "print('Centroids:\\n', k_means.cluster_centers_)\n",
    "print('SSE:\\n', k_means.inertia_)"
   ]
  },
  {
   "cell_type": "code",
   "execution_count": 33,
   "id": "415ba2cb",
   "metadata": {},
   "outputs": [
    {
     "name": "stdout",
     "output_type": "stream",
     "text": [
      "[0 0 0 1 0 1 1 1 0 0 0] 11\n"
     ]
    }
   ],
   "source": [
    "print(k_means.labels_, len(k_means.labels_))"
   ]
  },
  {
   "cell_type": "markdown",
   "id": "e2bab56f",
   "metadata": {},
   "source": [
    "## Posprocesiranje"
   ]
  },
  {
   "cell_type": "code",
   "execution_count": 38,
   "id": "cddd2d5d",
   "metadata": {},
   "outputs": [
    {
     "data": {
      "image/png": "[encoded data removed]",
      "text/plain": [
       "<Figure size 720x1440 with 20 Axes>"
      ]
     },
     "metadata": {
      "needs_background": "light"
     },
     "output_type": "display_data"
    }
   ],
   "source": [
    "import matplotlib.pyplot as plt\n",
    "\n",
    "colors = [\n",
    "    'red', 'green', 'blue', \n",
    "    'yellow', 'purple', 'gray', \n",
    "    'black', 'orange', 'cyan', \n",
    "    'pink', 'brown'\n",
    "]\n",
    "\n",
    "ks = range(1, X.shape[0])\n",
    "init_methods = ['k-means++', 'random']\n",
    "\n",
    "fig = plt.figure(figsize=(10, 20))\n",
    "plt_index = 1\n",
    "\n",
    "sse = []\n",
    "\n",
    "for k in ks:\n",
    "    for init_method in init_methods:\n",
    "        k_means = KMeans(k, init=init_method)\n",
    "        k_means.fit(X)\n",
    "        \n",
    "        df['label'] = k_means.labels_\n",
    "        \n",
    "        sse.append(k_means.inertia_)\n",
    "        \n",
    "        fig.add_subplot(\n",
    "            len(ks), \n",
    "            len(init_methods), \n",
    "            plt_index\n",
    "        )\n",
    "        \n",
    "        for label in range(k):\n",
    "            claster = df[df['label'] == label]\n",
    "            plt.scatter(\n",
    "                claster['height'], \n",
    "                claster['weight'], \n",
    "                color=colors[label]\n",
    "            )\n",
    "            \n",
    "        centroids = k_means.cluster_centers_\n",
    "        centroids = pd.DataFrame(scaler.inverse_transform(centroids))\n",
    "        \n",
    "        plt.scatter(\n",
    "            centroids[0],\n",
    "            centroids[1],\n",
    "            marker='x',\n",
    "            color='black'\n",
    "        )\n",
    "            \n",
    "        plt_index += 1\n",
    "\n",
    "plt.show()"
   ]
  },
  {
   "cell_type": "code",
   "execution_count": 42,
   "id": "77bac06e",
   "metadata": {},
   "outputs": [
    {
     "data": {
      "image/png": "[encoded data removed]",
      "text/plain": [
       "<Figure size 720x360 with 2 Axes>"
      ]
     },
     "metadata": {
      "needs_background": "light"
     },
     "output_type": "display_data"
    }
   ],
   "source": [
    "sse_k_meanspp = [err for (i, err) in enumerate(sse) if i % 2 == 0]\n",
    "sse_random = [err for (i, err) in enumerate(sse) if i % 2 == 1]\n",
    "\n",
    "fig = plt.figure(figsize=(10, 5))\n",
    "\n",
    "fig.add_subplot(1, 2, 1)\n",
    "plt.plot(sse_k_meanspp, marker='o')\n",
    "\n",
    "fig.add_subplot(1, 2, 2)\n",
    "plt.plot(sse_random, marker='o')\n",
    "\n",
    "plt.show()"
   ]
  },
  {
   "cell_type": "markdown",
   "id": "25e8d481",
   "metadata": {},
   "source": [
    "**Pravilo lakta**: Trazimo najmanji hiperparametar $k$ nakon koga $SSE$ opada sporo."
   ]
  },
  {
   "cell_type": "code",
   "execution_count": null,
   "id": "a50d8f6c",
   "metadata": {},
   "outputs": [],
   "source": []
  }
 ],
 "metadata": {
  "kernelspec": {
   "display_name": "Python 3",
   "language": "python",
   "name": "python3"
  },
  "language_info": {
   "codemirror_mode": {
    "name": "ipython",
    "version": 3
   },
   "file_extension": ".py",
   "mimetype": "text/x-python",
   "name": "python",
   "nbconvert_exporter": "python",
   "pygments_lexer": "ipython3",
   "version": "3.9.6"
  }
 },
 "nbformat": 4,
 "nbformat_minor": 5
}
