{
 "cells": [
  {
   "cell_type": "markdown",
   "id": "aa79e996",
   "metadata": {},
   "source": [
    "# Hijerarhijsko klasterovanje"
   ]
  },
  {
   "cell_type": "markdown",
   "id": "1863cc8e",
   "metadata": {},
   "source": [
    "# Predprocesiranje"
   ]
  },
  {
   "cell_type": "code",
   "execution_count": 2,
   "id": "334f9eac",
   "metadata": {},
   "outputs": [
    {
     "data": {
      "text/html": [
       "<div>\n",
       "<style scoped>\n",
       "    .dataframe tbody tr th:only-of-type {\n",
       "        vertical-align: middle;\n",
       "    }\n",
       "\n",
       "    .dataframe tbody tr th {\n",
       "        vertical-align: top;\n",
       "    }\n",
       "\n",
       "    .dataframe thead th {\n",
       "        text-align: right;\n",
       "    }\n",
       "</style>\n",
       "<table border=\"1\" class=\"dataframe\">\n",
       "  <thead>\n",
       "    <tr style=\"text-align: right;\">\n",
       "      <th></th>\n",
       "      <th>height</th>\n",
       "      <th>weight</th>\n",
       "    </tr>\n",
       "  </thead>\n",
       "  <tbody>\n",
       "    <tr>\n",
       "      <th>0</th>\n",
       "      <td>20</td>\n",
       "      <td>45</td>\n",
       "    </tr>\n",
       "    <tr>\n",
       "      <th>1</th>\n",
       "      <td>16</td>\n",
       "      <td>20</td>\n",
       "    </tr>\n",
       "    <tr>\n",
       "      <th>2</th>\n",
       "      <td>18</td>\n",
       "      <td>35</td>\n",
       "    </tr>\n",
       "    <tr>\n",
       "      <th>3</th>\n",
       "      <td>27</td>\n",
       "      <td>120</td>\n",
       "    </tr>\n",
       "    <tr>\n",
       "      <th>4</th>\n",
       "      <td>8</td>\n",
       "      <td>8</td>\n",
       "    </tr>\n",
       "    <tr>\n",
       "      <th>5</th>\n",
       "      <td>25</td>\n",
       "      <td>78</td>\n",
       "    </tr>\n",
       "    <tr>\n",
       "      <th>6</th>\n",
       "      <td>23</td>\n",
       "      <td>70</td>\n",
       "    </tr>\n",
       "    <tr>\n",
       "      <th>7</th>\n",
       "      <td>32</td>\n",
       "      <td>160</td>\n",
       "    </tr>\n",
       "    <tr>\n",
       "      <th>8</th>\n",
       "      <td>21</td>\n",
       "      <td>50</td>\n",
       "    </tr>\n",
       "    <tr>\n",
       "      <th>9</th>\n",
       "      <td>19</td>\n",
       "      <td>65</td>\n",
       "    </tr>\n",
       "    <tr>\n",
       "      <th>10</th>\n",
       "      <td>6</td>\n",
       "      <td>7</td>\n",
       "    </tr>\n",
       "  </tbody>\n",
       "</table>\n",
       "</div>"
      ],
      "text/plain": [
       "    height  weight\n",
       "0       20      45\n",
       "1       16      20\n",
       "2       18      35\n",
       "3       27     120\n",
       "4        8       8\n",
       "5       25      78\n",
       "6       23      70\n",
       "7       32     160\n",
       "8       21      50\n",
       "9       19      65\n",
       "10       6       7"
      ]
     },
     "execution_count": 2,
     "metadata": {},
     "output_type": "execute_result"
    }
   ],
   "source": [
    "import pandas as pd\n",
    "\n",
    "df = pd.read_csv('Data/dogs.csv')\n",
    "\n",
    "feature_names = df.columns[1:].tolist()\n",
    "\n",
    "X = df[feature_names]\n",
    "X"
   ]
  },
  {
   "cell_type": "code",
   "execution_count": 5,
   "id": "387f30f2",
   "metadata": {},
   "outputs": [
    {
     "data": {
      "text/html": [
       "<div>\n",
       "<style scoped>\n",
       "    .dataframe tbody tr th:only-of-type {\n",
       "        vertical-align: middle;\n",
       "    }\n",
       "\n",
       "    .dataframe tbody tr th {\n",
       "        vertical-align: top;\n",
       "    }\n",
       "\n",
       "    .dataframe thead th {\n",
       "        text-align: right;\n",
       "    }\n",
       "</style>\n",
       "<table border=\"1\" class=\"dataframe\">\n",
       "  <thead>\n",
       "    <tr style=\"text-align: right;\">\n",
       "      <th></th>\n",
       "      <th>height</th>\n",
       "      <th>weight</th>\n",
       "    </tr>\n",
       "  </thead>\n",
       "  <tbody>\n",
       "    <tr>\n",
       "      <th>0</th>\n",
       "      <td>0.538462</td>\n",
       "      <td>0.248366</td>\n",
       "    </tr>\n",
       "    <tr>\n",
       "      <th>1</th>\n",
       "      <td>0.384615</td>\n",
       "      <td>0.084967</td>\n",
       "    </tr>\n",
       "    <tr>\n",
       "      <th>2</th>\n",
       "      <td>0.461538</td>\n",
       "      <td>0.183007</td>\n",
       "    </tr>\n",
       "    <tr>\n",
       "      <th>3</th>\n",
       "      <td>0.807692</td>\n",
       "      <td>0.738562</td>\n",
       "    </tr>\n",
       "    <tr>\n",
       "      <th>4</th>\n",
       "      <td>0.076923</td>\n",
       "      <td>0.006536</td>\n",
       "    </tr>\n",
       "    <tr>\n",
       "      <th>5</th>\n",
       "      <td>0.730769</td>\n",
       "      <td>0.464052</td>\n",
       "    </tr>\n",
       "    <tr>\n",
       "      <th>6</th>\n",
       "      <td>0.653846</td>\n",
       "      <td>0.411765</td>\n",
       "    </tr>\n",
       "    <tr>\n",
       "      <th>7</th>\n",
       "      <td>1.000000</td>\n",
       "      <td>1.000000</td>\n",
       "    </tr>\n",
       "    <tr>\n",
       "      <th>8</th>\n",
       "      <td>0.576923</td>\n",
       "      <td>0.281046</td>\n",
       "    </tr>\n",
       "    <tr>\n",
       "      <th>9</th>\n",
       "      <td>0.500000</td>\n",
       "      <td>0.379085</td>\n",
       "    </tr>\n",
       "    <tr>\n",
       "      <th>10</th>\n",
       "      <td>0.000000</td>\n",
       "      <td>0.000000</td>\n",
       "    </tr>\n",
       "  </tbody>\n",
       "</table>\n",
       "</div>"
      ],
      "text/plain": [
       "      height    weight\n",
       "0   0.538462  0.248366\n",
       "1   0.384615  0.084967\n",
       "2   0.461538  0.183007\n",
       "3   0.807692  0.738562\n",
       "4   0.076923  0.006536\n",
       "5   0.730769  0.464052\n",
       "6   0.653846  0.411765\n",
       "7   1.000000  1.000000\n",
       "8   0.576923  0.281046\n",
       "9   0.500000  0.379085\n",
       "10  0.000000  0.000000"
      ]
     },
     "execution_count": 5,
     "metadata": {},
     "output_type": "execute_result"
    }
   ],
   "source": [
    "from sklearn.preprocessing import MinMaxScaler\n",
    "\n",
    "scaler = MinMaxScaler()\n",
    "scaler.fit(X)\n",
    "X = pd.DataFrame(scaler.transform(X), columns=feature_names)\n",
    "\n",
    "X"
   ]
  },
  {
   "cell_type": "markdown",
   "id": "29bb6fcf",
   "metadata": {},
   "source": [
    "## Sakupljajuce klasterovanje"
   ]
  },
  {
   "cell_type": "code",
   "execution_count": 7,
   "id": "c0760497",
   "metadata": {},
   "outputs": [
    {
     "name": "stdout",
     "output_type": "stream",
     "text": [
      "[10  5  7  8  9  6  3  4  1  2  0]\n",
      "[[ 0  8]\n",
      " [ 4 10]\n",
      " [ 6  5]\n",
      " [11  2]\n",
      " [14  9]\n",
      " [15  1]\n",
      " [16 13]\n",
      " [17  3]\n",
      " [18 12]\n",
      " [19  7]]\n"
     ]
    }
   ],
   "source": [
    "from sklearn.cluster import AgglomerativeClustering\n",
    "\n",
    "model = AgglomerativeClustering(n_clusters=None, distance_threshold=0, linkage='single')\n",
    "model.fit(X)\n",
    "\n",
    "print(model.labels_)\n",
    "print(model.children_)"
   ]
  },
  {
   "cell_type": "code",
   "execution_count": 16,
   "id": "2795fc17",
   "metadata": {},
   "outputs": [
    {
     "data": {
      "image/png": "[encoded data removed]",
      "text/plain": [
       "<Figure size 1080x360 with 3 Axes>"
      ]
     },
     "metadata": {
      "needs_background": "light"
     },
     "output_type": "display_data"
    }
   ],
   "source": [
    "import matplotlib.pyplot as plt\n",
    "\n",
    "colors = ['red', 'green', 'blue']\n",
    "\n",
    "fig = plt.figure(figsize=(15, 5))\n",
    "n_clusters=3\n",
    "for i, link in enumerate(['single', 'complete', 'average']):\n",
    "    model = AgglomerativeClustering(n_clusters=3, linkage=link)\n",
    "    model.fit(X)\n",
    "    \n",
    "    df['label'] = model.labels_\n",
    "    \n",
    "    fig.add_subplot(1, n_clusters, i + 1)\n",
    "    plt.title(link)\n",
    "    for claster_label in range(n_clusters):\n",
    "        claster = df[df['label'] == claster_label]\n",
    "        \n",
    "        plt.scatter(\n",
    "            claster['height'], claster['weight'], \n",
    "            color=colors[claster_label], label=f'claster {claster_label}'\n",
    "        )\n",
    "    plt.legend()\n",
    "    \n",
    "plt.show()\n",
    "        "
   ]
  },
  {
   "cell_type": "markdown",
   "id": "57b36077",
   "metadata": {},
   "source": [
    "## Postprocesiranje"
   ]
  },
  {
   "cell_type": "code",
   "execution_count": 54,
   "id": "bc81017e",
   "metadata": {},
   "outputs": [
    {
     "data": {
      "image/png": "[encoded data removed]",
      "text/plain": [
       "<Figure size 1080x360 with 1 Axes>"
      ]
     },
     "metadata": {
      "needs_background": "light"
     },
     "output_type": "display_data"
    }
   ],
   "source": [
    "from scipy.cluster.hierarchy import dendrogram, linkage\n",
    "\n",
    "df = pd.read_csv('Data/dogs.csv')\n",
    "df.set_index('breed', inplace=True)\n",
    "\n",
    "X = pd.DataFrame(MinMaxScaler().fit_transform(X), columns=feature_names)\n",
    "\n",
    "Z = linkage(X)\n",
    "\n",
    "fig = plt.figure(figsize=(15, 5))\n",
    "D = dendrogram(Z, labels=df.index, leaf_font_size=8, show_contracted=True)\n",
    "plt.show()"
   ]
  },
  {
   "cell_type": "markdown",
   "id": "b56540a6",
   "metadata": {},
   "source": [
    "# BDSCAN"
   ]
  },
  {
   "cell_type": "markdown",
   "id": "07bdc061",
   "metadata": {},
   "source": [
    "## Preprocesiranje"
   ]
  },
  {
   "cell_type": "code",
   "execution_count": 26,
   "id": "d4d106cb",
   "metadata": {},
   "outputs": [
    {
     "data": {
      "text/html": [
       "<div>\n",
       "<style scoped>\n",
       "    .dataframe tbody tr th:only-of-type {\n",
       "        vertical-align: middle;\n",
       "    }\n",
       "\n",
       "    .dataframe tbody tr th {\n",
       "        vertical-align: top;\n",
       "    }\n",
       "\n",
       "    .dataframe thead th {\n",
       "        text-align: right;\n",
       "    }\n",
       "</style>\n",
       "<table border=\"1\" class=\"dataframe\">\n",
       "  <thead>\n",
       "    <tr style=\"text-align: right;\">\n",
       "      <th></th>\n",
       "      <th>height</th>\n",
       "      <th>weight</th>\n",
       "    </tr>\n",
       "  </thead>\n",
       "  <tbody>\n",
       "    <tr>\n",
       "      <th>0</th>\n",
       "      <td>0.538462</td>\n",
       "      <td>0.248366</td>\n",
       "    </tr>\n",
       "    <tr>\n",
       "      <th>1</th>\n",
       "      <td>0.384615</td>\n",
       "      <td>0.084967</td>\n",
       "    </tr>\n",
       "    <tr>\n",
       "      <th>2</th>\n",
       "      <td>0.461538</td>\n",
       "      <td>0.183007</td>\n",
       "    </tr>\n",
       "    <tr>\n",
       "      <th>3</th>\n",
       "      <td>0.807692</td>\n",
       "      <td>0.738562</td>\n",
       "    </tr>\n",
       "    <tr>\n",
       "      <th>4</th>\n",
       "      <td>0.076923</td>\n",
       "      <td>0.006536</td>\n",
       "    </tr>\n",
       "    <tr>\n",
       "      <th>5</th>\n",
       "      <td>0.730769</td>\n",
       "      <td>0.464052</td>\n",
       "    </tr>\n",
       "    <tr>\n",
       "      <th>6</th>\n",
       "      <td>0.653846</td>\n",
       "      <td>0.411765</td>\n",
       "    </tr>\n",
       "    <tr>\n",
       "      <th>7</th>\n",
       "      <td>1.000000</td>\n",
       "      <td>1.000000</td>\n",
       "    </tr>\n",
       "    <tr>\n",
       "      <th>8</th>\n",
       "      <td>0.576923</td>\n",
       "      <td>0.281046</td>\n",
       "    </tr>\n",
       "    <tr>\n",
       "      <th>9</th>\n",
       "      <td>0.500000</td>\n",
       "      <td>0.379085</td>\n",
       "    </tr>\n",
       "    <tr>\n",
       "      <th>10</th>\n",
       "      <td>0.000000</td>\n",
       "      <td>0.000000</td>\n",
       "    </tr>\n",
       "  </tbody>\n",
       "</table>\n",
       "</div>"
      ],
      "text/plain": [
       "      height    weight\n",
       "0   0.538462  0.248366\n",
       "1   0.384615  0.084967\n",
       "2   0.461538  0.183007\n",
       "3   0.807692  0.738562\n",
       "4   0.076923  0.006536\n",
       "5   0.730769  0.464052\n",
       "6   0.653846  0.411765\n",
       "7   1.000000  1.000000\n",
       "8   0.576923  0.281046\n",
       "9   0.500000  0.379085\n",
       "10  0.000000  0.000000"
      ]
     },
     "execution_count": 26,
     "metadata": {},
     "output_type": "execute_result"
    }
   ],
   "source": [
    "import pandas as pd\n",
    "\n",
    "df = pd.read_csv('Data/dogs.csv')\n",
    "X = pd.DataFrame(MinMaxScaler().fit_transform(X), columns=feature_names)\n",
    "X"
   ]
  },
  {
   "cell_type": "markdown",
   "id": "eeaa90da",
   "metadata": {},
   "source": [
    "## DBSCAN: Algoritam"
   ]
  },
  {
   "cell_type": "code",
   "execution_count": 32,
   "id": "94054d93",
   "metadata": {},
   "outputs": [
    {
     "data": {
      "text/plain": [
       "array([ 0,  0,  0,  0,  1,  0,  0, -1,  0,  0,  1])"
      ]
     },
     "execution_count": 32,
     "metadata": {},
     "output_type": "execute_result"
    }
   ],
   "source": [
    "from sklearn.cluster import DBSCAN\n",
    "\n",
    "model = DBSCAN(eps=0.3, min_samples=2)\n",
    "model.fit(X)\n",
    "\n",
    "model.labels_"
   ]
  },
  {
   "cell_type": "markdown",
   "id": "33848d55",
   "metadata": {},
   "source": [
    "## Evaluacija modela"
   ]
  },
  {
   "cell_type": "code",
   "execution_count": 34,
   "id": "4aafc6cc",
   "metadata": {},
   "outputs": [
    {
     "data": {
      "text/plain": [
       "0.4306542372423945"
      ]
     },
     "execution_count": 34,
     "metadata": {},
     "output_type": "execute_result"
    }
   ],
   "source": [
    "from sklearn.metrics import silhouette_score\n",
    "\n",
    "silhouette_score(X, labels=model.labels_)"
   ]
  },
  {
   "cell_type": "code",
   "execution_count": 52,
   "id": "4f469569",
   "metadata": {},
   "outputs": [
    {
     "data": {
      "image/png": "[encoded data removed]",
      "text/plain": [
       "<Figure size 1080x360 with 3 Axes>"
      ]
     },
     "metadata": {
      "needs_background": "light"
     },
     "output_type": "display_data"
    }
   ],
   "source": [
    "import matplotlib.pyplot as plt\n",
    "import numpy as np\n",
    "\n",
    "colors = ['red', 'green', 'blue']\n",
    "\n",
    "fig = plt.figure(figsize=(15, 5))\n",
    "eps_values = [0.2, 0.25, 0.3]\n",
    "for i, eps in enumerate(eps_values):\n",
    "    model = DBSCAN(eps, min_samples=2)\n",
    "    model.fit(X)\n",
    "    \n",
    "    df['label'] = model.labels_\n",
    "    \n",
    "    n_clusters = max(model.labels_) + 1\n",
    "    \n",
    "    fig.add_subplot(1, len(eps_values), i + 1)\n",
    "    plt.title(f'Eps: {eps}, Silhouette Score: {round(silhouette_score(X, model.labels_), 2)}')\n",
    "    for claster_label in range(-1, n_clusters):\n",
    "        claster = df[df['label'] == claster_label]\n",
    "        \n",
    "        if claster_label == -1:\n",
    "            plt.scatter(\n",
    "                claster['height'], claster['weight'], \n",
    "                color='black', marker='x', label='sum'\n",
    "            )\n",
    "        else:\n",
    "            plt.scatter(\n",
    "                claster['height'], claster['weight'], \n",
    "                color=colors[claster_label], label=f'claster {claster_label}'\n",
    "            )\n",
    "    plt.legend()\n",
    "    \n",
    "plt.show()"
   ]
  },
  {
   "cell_type": "code",
   "execution_count": null,
   "id": "03c9d89b",
   "metadata": {},
   "outputs": [],
   "source": []
  }
 ],
 "metadata": {
  "kernelspec": {
   "display_name": "Python 3",
   "language": "python",
   "name": "python3"
  },
  "language_info": {
   "codemirror_mode": {
    "name": "ipython",
    "version": 3
   },
   "file_extension": ".py",
   "mimetype": "text/x-python",
   "name": "python",
   "nbconvert_exporter": "python",
   "pygments_lexer": "ipython3",
   "version": "3.9.6"
  }
 },
 "nbformat": 4,
 "nbformat_minor": 5
}
