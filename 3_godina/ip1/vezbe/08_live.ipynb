{
 "cells": [
  {
   "cell_type": "code",
   "execution_count": 1,
   "id": "bulgarian-salem",
   "metadata": {},
   "outputs": [],
   "source": [
    "import os"
   ]
  },
  {
   "cell_type": "code",
   "execution_count": 2,
   "id": "medium-walter",
   "metadata": {},
   "outputs": [],
   "source": [
    "root_path = '../ipVezbe7Inf/ebart/ebart/VektoriEbart-5/Skup/'\n",
    "\n",
    "corpus = []\n",
    "classes = []\n",
    "\n",
    "for class_name in os.listdir(root_path):\n",
    "    class_dir = os.path.join(root_path, class_name)\n",
    "    for file_name in os.listdir(class_dir):\n",
    "        with open(os.path.join(class_dir, file_name)) as f:\n",
    "            word_counts = {}\n",
    "            for line in f:\n",
    "                word, count = line.split()\n",
    "                word_counts[word] = int(count)\n",
    "            corpus.append(word_counts)\n",
    "            classes.append(class_name)"
   ]
  },
  {
   "cell_type": "code",
   "execution_count": 5,
   "id": "pacific-tiffany",
   "metadata": {},
   "outputs": [
    {
     "data": {
      "text/plain": [
       "3492"
      ]
     },
     "execution_count": 5,
     "metadata": {},
     "output_type": "execute_result"
    }
   ],
   "source": [
    "len(corpus)"
   ]
  },
  {
   "cell_type": "code",
   "execution_count": 6,
   "id": "sitting-louisiana",
   "metadata": {},
   "outputs": [
    {
     "data": {
      "text/plain": [
       "3492"
      ]
     },
     "execution_count": 6,
     "metadata": {},
     "output_type": "execute_result"
    }
   ],
   "source": [
    "len(classes)"
   ]
  },
  {
   "cell_type": "code",
   "execution_count": 7,
   "id": "metallic-welsh",
   "metadata": {},
   "outputs": [],
   "source": [
    "from sklearn.feature_extraction import DictVectorizer"
   ]
  },
  {
   "cell_type": "code",
   "execution_count": 8,
   "id": "unlike-helicopter",
   "metadata": {},
   "outputs": [],
   "source": [
    "dv = DictVectorizer()"
   ]
  },
  {
   "cell_type": "code",
   "execution_count": 9,
   "id": "baking-cologne",
   "metadata": {},
   "outputs": [],
   "source": [
    "X = dv.fit_transform(corpus)"
   ]
  },
  {
   "cell_type": "code",
   "execution_count": 11,
   "id": "outdoor-option",
   "metadata": {},
   "outputs": [
    {
     "data": {
      "text/plain": [
       "array([[0., 0., 0., ..., 0., 0., 0.],\n",
       "       [0., 0., 0., ..., 0., 0., 0.],\n",
       "       [0., 0., 0., ..., 0., 0., 0.],\n",
       "       ...,\n",
       "       [0., 0., 0., ..., 0., 0., 0.],\n",
       "       [0., 0., 0., ..., 2., 0., 0.],\n",
       "       [0., 0., 0., ..., 0., 0., 0.]])"
      ]
     },
     "execution_count": 11,
     "metadata": {},
     "output_type": "execute_result"
    }
   ],
   "source": [
    "X.toarray()"
   ]
  },
  {
   "cell_type": "code",
   "execution_count": 12,
   "id": "usual-workshop",
   "metadata": {},
   "outputs": [
    {
     "data": {
      "text/plain": [
       "['ab',\n",
       " 'abasu',\n",
       " 'abati',\n",
       " 'abc',\n",
       " 'abdul',\n",
       " 'abdulah',\n",
       " 'abe',\n",
       " 'aberdin',\n",
       " 'abhaziji',\n",
       " 'abida',\n",
       " 'aboliranxa',\n",
       " 'abom',\n",
       " 'abonmana',\n",
       " 'abortus',\n",
       " 'abramovicyu',\n",
       " 'abrasxevicx',\n",
       " 'abs',\n",
       " 'abu',\n",
       " 'ac',\n",
       " 'aca',\n",
       " 'acb',\n",
       " 'acdi',\n",
       " 'ace',\n",
       " 'acetylene',\n",
       " 'ackovicx',\n",
       " 'acom',\n",
       " 'acovicx',\n",
       " 'acta',\n",
       " 'acu',\n",
       " 'acxima',\n",
       " 'acximov',\n",
       " 'acximovicx',\n",
       " 'acxina',\n",
       " 'acye',\n",
       " 'acyucene',\n",
       " 'ad',\n",
       " 'ada',\n",
       " 'adaldxize',\n",
       " 'adamicya',\n",
       " 'adamovicx',\n",
       " 'adams',\n",
       " 'adamson',\n",
       " 'adana',\n",
       " 'adancyicx',\n",
       " 'adaptaciju',\n",
       " 'adaptiranu',\n",
       " 'adaptivnost',\n",
       " 'addicted',\n",
       " 'adekvanti',\n",
       " 'adekvatan',\n",
       " 'adekvatnijeg',\n",
       " 'adekvatnom',\n",
       " 'adele',\n",
       " 'adelman',\n",
       " 'adem',\n",
       " 'adenauer',\n",
       " 'adere',\n",
       " 'adica',\n",
       " 'adidas',\n",
       " 'adidye',\n",
       " 'adijano',\n",
       " 'adili',\n",
       " 'adilija',\n",
       " 'adios',\n",
       " 'adis',\n",
       " 'aditivi',\n",
       " 'administracija',\n",
       " 'administrativnih',\n",
       " 'administrator',\n",
       " 'admiral',\n",
       " 'adnan',\n",
       " 'adolescent',\n",
       " 'adolfa',\n",
       " 'adore',\n",
       " 'adorno',\n",
       " 'adrana',\n",
       " 'adrenalin',\n",
       " 'adresa',\n",
       " 'adresom',\n",
       " 'adria',\n",
       " 'adriakoop',\n",
       " 'adrijano',\n",
       " 'ads',\n",
       " 'adut',\n",
       " 'adventiskicyke',\n",
       " 'adventisticyku',\n",
       " 'advertajzinga',\n",
       " 'advertising',\n",
       " 'advertizing',\n",
       " 'advin',\n",
       " 'advokat',\n",
       " 'advokaticom',\n",
       " 'advokatima',\n",
       " 'advokatske',\n",
       " 'adyami',\n",
       " 'adyicxa',\n",
       " 'adyovicx',\n",
       " 'adyovicxima',\n",
       " 'aek',\n",
       " 'ael',\n",
       " 'aerodinamicyke',\n",
       " 'aerodromima',\n",
       " 'aerodromske',\n",
       " 'aerodromu',\n",
       " 'aerozagadxenxe',\n",
       " 'afaa',\n",
       " 'afalta',\n",
       " 'afanasijev',\n",
       " 'afekta',\n",
       " 'afelaj',\n",
       " 'aferama',\n",
       " 'aferom',\n",
       " 'aferu',\n",
       " 'afganistanu',\n",
       " 'afilijacija',\n",
       " 'afilohije',\n",
       " 'afinitetom',\n",
       " 'afirmacija',\n",
       " 'afirmativne',\n",
       " 'afirmisanih',\n",
       " 'afirmisati',\n",
       " 'afirmisxe',\n",
       " 'afirmisxucxi',\n",
       " 'aforisticyara',\n",
       " 'aforizama',\n",
       " 'afp',\n",
       " 'africi',\n",
       " 'africyke',\n",
       " 'afrike',\n",
       " 'afrikom',\n",
       " 'afrodakisem',\n",
       " 'afrodita',\n",
       " 'after',\n",
       " 'aftermath',\n",
       " 'ag',\n",
       " 'agadira',\n",
       " 'agali',\n",
       " 'agani',\n",
       " 'agasi',\n",
       " 'agate',\n",
       " 'agazxovali',\n",
       " 'agenata',\n",
       " 'agenauerom',\n",
       " 'agencijama',\n",
       " 'agencije',\n",
       " 'agencijski',\n",
       " 'agendu',\n",
       " 'agent',\n",
       " 'agentom',\n",
       " 'ages',\n",
       " 'agilera',\n",
       " 'agilnim',\n",
       " 'agim',\n",
       " 'agine',\n",
       " 'agire',\n",
       " 'agitovati',\n",
       " 'agitujucxi',\n",
       " 'aglosaksonski',\n",
       " 'agnes',\n",
       " 'agonija',\n",
       " 'agora',\n",
       " 'agosxtona',\n",
       " 'agranela',\n",
       " 'agrar',\n",
       " 'agrarne',\n",
       " 'agregata',\n",
       " 'agregatima',\n",
       " 'agresijom',\n",
       " 'agresivnije',\n",
       " 'agresivno',\n",
       " 'agresori',\n",
       " 'agricol',\n",
       " 'agrikol',\n",
       " 'agrokomerca',\n",
       " 'agrokula',\n",
       " 'agronoma',\n",
       " 'agronu',\n",
       " 'agrotehnicykih',\n",
       " 'agroturizma',\n",
       " 'agrouniju',\n",
       " 'agrouniverzal',\n",
       " 'agrounivezal',\n",
       " 'agrovojvodine',\n",
       " 'agrozxiv',\n",
       " 'aguri',\n",
       " 'aguseli',\n",
       " 'agustin',\n",
       " 'ahcyin',\n",
       " 'ahen',\n",
       " 'ahern',\n",
       " 'ahil',\n",
       " 'ahileja',\n",
       " 'ahilova',\n",
       " 'ahmed',\n",
       " 'ahmetov',\n",
       " 'ahmicxi',\n",
       " 'ahnas',\n",
       " 'ahonena',\n",
       " 'ahtisari',\n",
       " 'ahtisarijeva',\n",
       " 'ai',\n",
       " 'aida',\n",
       " 'aidea',\n",
       " 'aik',\n",
       " 'aikido',\n",
       " 'ailton',\n",
       " 'aimar',\n",
       " 'aimer',\n",
       " 'aims',\n",
       " 'air',\n",
       " 'airesu',\n",
       " 'airtonu',\n",
       " 'aisati',\n",
       " 'aitom',\n",
       " 'aja',\n",
       " 'ajacyi',\n",
       " 'ajaks',\n",
       " 'ajala',\n",
       " 'ajanovicx',\n",
       " 'ajdacyicxa',\n",
       " 'ajde',\n",
       " 'ajdicx',\n",
       " 'ajdinovicx',\n",
       " 'ajdovsxcyini',\n",
       " 'ajgui',\n",
       " 'ajku',\n",
       " 'ajlendu',\n",
       " 'ajmo',\n",
       " 'ajndhovenu',\n",
       " 'ajnsxtajna',\n",
       " 'ajntraht',\n",
       " 'ajo',\n",
       " 'ajresa',\n",
       " 'ajrons',\n",
       " 'ajsland',\n",
       " 'ajsxvaraju',\n",
       " 'ajvar',\n",
       " 'ajversona',\n",
       " 'ajvori',\n",
       " 'ajzak',\n",
       " 'ajzeja',\n",
       " 'ajzensxtajn',\n",
       " 'ak',\n",
       " 'aka',\n",
       " 'akademaca',\n",
       " 'akademci',\n",
       " 'akademicima',\n",
       " 'akademijama',\n",
       " 'akademije',\n",
       " 'akademska',\n",
       " 'akapulko',\n",
       " 'akasvaju',\n",
       " 'akata',\n",
       " 'akcelerator',\n",
       " 'akcenat',\n",
       " 'akcenton',\n",
       " 'akcentovali',\n",
       " 'akceptni',\n",
       " 'akcijama',\n",
       " 'akcije',\n",
       " 'akcijom',\n",
       " 'akcijskog',\n",
       " 'akcionar',\n",
       " 'akcionarima',\n",
       " 'akcionarsko',\n",
       " 'akciza',\n",
       " 'akcizne',\n",
       " 'akdemir',\n",
       " 'akerman',\n",
       " 'akermanovu',\n",
       " 'aki',\n",
       " 'akiconara',\n",
       " 'akimovu',\n",
       " 'aklamacijom',\n",
       " 'aklimatizacijom',\n",
       " 'akontacija',\n",
       " 'akopijan',\n",
       " 'akord',\n",
       " 'akordima',\n",
       " 'akosta',\n",
       " 'akratitos',\n",
       " 'akreditacije',\n",
       " 'akreditovalo',\n",
       " 'akrilicima',\n",
       " 'akrilika',\n",
       " 'akrobacija',\n",
       " 'akropolxa',\n",
       " 'aksana',\n",
       " 'aksel',\n",
       " 'aksentijevicx',\n",
       " 'aksesorajz',\n",
       " 'aksiom',\n",
       " 'aksor',\n",
       " 'akta',\n",
       " 'akteri',\n",
       " 'aktima',\n",
       " 'aktiva',\n",
       " 'aktivirajucxi',\n",
       " 'aktivirala',\n",
       " 'aktiviranxe',\n",
       " 'aktivista',\n",
       " 'aktivistima',\n",
       " 'aktivistkinxe',\n",
       " 'aktivni',\n",
       " 'aktivnijih',\n",
       " 'aktivnosti',\n",
       " 'aktom',\n",
       " 'aktovi',\n",
       " 'aktuelisticyku',\n",
       " 'aktuelizovala',\n",
       " 'aktuelizuje',\n",
       " 'aktuelno',\n",
       " 'aktuelnosti',\n",
       " 'aktulene',\n",
       " 'akud',\n",
       " 'akumulacione',\n",
       " 'akumulativnije',\n",
       " 'akumulirano',\n",
       " 'akunxa',\n",
       " 'akunxin',\n",
       " 'akupunkturu',\n",
       " 'akusticyna',\n",
       " 'akutni',\n",
       " 'akvarela',\n",
       " 'akvarelist',\n",
       " 'akvarijumu',\n",
       " 'akvatorija',\n",
       " 'akvinskog',\n",
       " 'akvizicija',\n",
       " 'alabanaca',\n",
       " 'alabnaca',\n",
       " 'alacya',\n",
       " 'aladinove',\n",
       " 'alaija',\n",
       " 'alajbegovicxa',\n",
       " 'alant',\n",
       " 'alarm',\n",
       " 'alarmirana',\n",
       " 'alarmni',\n",
       " 'alas',\n",
       " 'alati',\n",
       " 'alatkama',\n",
       " 'alatnicyara',\n",
       " 'alaverka',\n",
       " 'alaves',\n",
       " 'alba',\n",
       " 'albahari',\n",
       " 'albaharijev',\n",
       " 'albanaca',\n",
       " 'albanci',\n",
       " 'albanicma',\n",
       " 'albanii',\n",
       " 'albanijom',\n",
       " 'albanki',\n",
       " 'albanolosxkom',\n",
       " 'albanskih',\n",
       " 'albasete',\n",
       " 'albatros',\n",
       " 'alber',\n",
       " 'albertina',\n",
       " 'alberto',\n",
       " 'albijanicxa',\n",
       " 'albinolefe',\n",
       " 'albionu',\n",
       " 'albufeiri',\n",
       " 'album',\n",
       " 'albumom',\n",
       " 'albusa',\n",
       " 'alda',\n",
       " 'alegorije',\n",
       " 'alehandro',\n",
       " 'alejnicyev',\n",
       " 'alekcincu',\n",
       " 'aleksandar',\n",
       " 'aleksandrijsku',\n",
       " 'aleksandrom',\n",
       " 'aleksapdar',\n",
       " 'alekse',\n",
       " 'aleksejeva',\n",
       " 'aleksicx',\n",
       " 'aleksinacyki',\n",
       " 'aleksinca',\n",
       " 'aleksisom',\n",
       " 'alemanija',\n",
       " 'alen',\n",
       " 'alenom',\n",
       " 'alergicyan',\n",
       " 'alesandra',\n",
       " 'alexandria',\n",
       " 'alfa',\n",
       " 'alfena',\n",
       " 'alfonsa',\n",
       " 'alfred',\n",
       " 'algebru',\n",
       " 'algesiras',\n",
       " 'alibi',\n",
       " 'alidxerce',\n",
       " 'aligatorom',\n",
       " 'aligijerija',\n",
       " 'aligrudicx',\n",
       " 'alija',\n",
       " 'alijanse',\n",
       " 'alijevicx',\n",
       " 'alikante',\n",
       " 'alim',\n",
       " 'alimentiraju',\n",
       " 'alimpija',\n",
       " 'alisa',\n",
       " 'alison',\n",
       " 'alkatela',\n",
       " 'alkmar',\n",
       " 'alko',\n",
       " 'alkoholicyaru',\n",
       " 'alkoholisanom',\n",
       " 'alkoholisxe',\n",
       " 'alkoholizam',\n",
       " 'alkoholna',\n",
       " 'allied',\n",
       " 'alma',\n",
       " 'almejda',\n",
       " 'almeria',\n",
       " 'almir',\n",
       " 'almodovar',\n",
       " 'alnari',\n",
       " 'alo',\n",
       " 'alogoskoufisom',\n",
       " 'aloizio',\n",
       " 'alone',\n",
       " 'alonso',\n",
       " 'alonsovog',\n",
       " 'alpe',\n",
       " 'alpine',\n",
       " 'alpinom',\n",
       " 'alpskoj',\n",
       " 'alsides',\n",
       " 'alt',\n",
       " 'altaj',\n",
       " 'altdojcy',\n",
       " 'altea',\n",
       " 'altera',\n",
       " 'alterglobalizmu',\n",
       " 'alternativnim',\n",
       " 'altona',\n",
       " 'aludirajucxi',\n",
       " 'aluminijuma',\n",
       " 'alupleksa',\n",
       " 'aluzijom',\n",
       " 'alvadyina',\n",
       " 'alvareza',\n",
       " 'alxasci',\n",
       " 'alxbina',\n",
       " 'alxbion',\n",
       " 'alxendeu',\n",
       " 'alxkavostima',\n",
       " 'alxona',\n",
       " 'alxosxe',\n",
       " 'alzxir',\n",
       " 'alzxirskog',\n",
       " 'ama',\n",
       " 'amabasador',\n",
       " 'amadea',\n",
       " 'amadeus',\n",
       " 'amadinda',\n",
       " 'amadman',\n",
       " 'amadora',\n",
       " 'amajlije',\n",
       " 'amandmana',\n",
       " 'amandmanima',\n",
       " 'amanet',\n",
       " 'amara',\n",
       " 'amarkord',\n",
       " 'amateri',\n",
       " 'amaterskoj',\n",
       " 'amato',\n",
       " 'amazin',\n",
       " 'ambalazxama',\n",
       " 'ambalazxi',\n",
       " 'ambasadama',\n",
       " 'ambasador',\n",
       " 'ambicija',\n",
       " 'ambiciozne',\n",
       " 'ambicioznijem',\n",
       " 'ambijent',\n",
       " 'ambijentalne',\n",
       " 'ambivalentna',\n",
       " 'amblem',\n",
       " 'amblemima',\n",
       " 'ambrose',\n",
       " 'ambrozija',\n",
       " 'ambrusxu',\n",
       " 'ambulantu',\n",
       " 'ameli',\n",
       " 'amelija',\n",
       " 'amenabar',\n",
       " 'amer',\n",
       " 'americi',\n",
       " 'americkih',\n",
       " 'americykom',\n",
       " 'amerikaci',\n",
       " 'amerikanaca',\n",
       " 'amerikance',\n",
       " 'amerikankom',\n",
       " 'amerikanvci',\n",
       " 'ameriken',\n",
       " 'amersfortom',\n",
       " 'amfetamin',\n",
       " 'amfilohija',\n",
       " 'amfiteatru',\n",
       " 'amfore',\n",
       " 'amibusi',\n",
       " 'amidye',\n",
       " 'amidyicxem',\n",
       " 'amikizia',\n",
       " 'aminovali',\n",
       " 'aminujem',\n",
       " 'amir',\n",
       " 'amneris',\n",
       " 'amnestira',\n",
       " 'amnezija',\n",
       " 'amolu',\n",
       " 'amonijak',\n",
       " 'amore',\n",
       " 'amoros',\n",
       " 'amoroznih',\n",
       " 'amortizaciju',\n",
       " 'amortizere',\n",
       " 'amplifikovanih',\n",
       " 'ampulama',\n",
       " 'ampule',\n",
       " 'amsterdamskoj',\n",
       " 'amsterdamu',\n",
       " 'amuletima',\n",
       " 'an',\n",
       " 'anabela',\n",
       " 'anabolicykim',\n",
       " 'anabolike',\n",
       " 'anadolci',\n",
       " 'anahajmu',\n",
       " 'anahroni',\n",
       " 'anahronisticykog',\n",
       " 'anakondi',\n",
       " 'anale',\n",
       " 'analgina',\n",
       " 'analima',\n",
       " 'analiticyar',\n",
       " 'analiticynost',\n",
       " 'analitiku',\n",
       " 'analiza',\n",
       " 'analiziracxemo',\n",
       " 'analizirajucxi',\n",
       " 'analizirati',\n",
       " 'analogiji',\n",
       " 'anan',\n",
       " 'ananom',\n",
       " 'ananovom',\n",
       " 'anarhicyne',\n",
       " 'anarhizmu',\n",
       " 'anastasija',\n",
       " 'anastasijevicx',\n",
       " 'anastazija',\n",
       " 'anatolij',\n",
       " 'anatomije',\n",
       " 'anbasadoru',\n",
       " 'ancxeloti',\n",
       " 'ancyelotija',\n",
       " 'ancyicx',\n",
       " 'and',\n",
       " 'andantinu',\n",
       " 'andergraund',\n",
       " 'anderleht',\n",
       " 'anderson',\n",
       " 'andersonova',\n",
       " 'andima',\n",
       " 'andorom',\n",
       " 'andra',\n",
       " 'andrasxa',\n",
       " 'andrazx',\n",
       " 'andrea',\n",
       " 'andreja',\n",
       " 'andrejevicxa',\n",
       " 'andrejicxa',\n",
       " 'andreom',\n",
       " 'andresa',\n",
       " 'andricxa',\n",
       " 'andricxevoj',\n",
       " 'andrija',\n",
       " 'andrijasxevicxa',\n",
       " 'andrijevici',\n",
       " 'andrukov',\n",
       " 'andxelesu',\n",
       " 'andxelicx',\n",
       " 'andxelkovicx',\n",
       " 'andxelku',\n",
       " 'andxeo',\n",
       " 'andxeoski',\n",
       " 'andxulovicx',\n",
       " 'ane',\n",
       " 'anegdota',\n",
       " 'aneksa',\n",
       " 'aneksima',\n",
       " 'anektiran',\n",
       " 'anesteziolog',\n",
       " 'anga',\n",
       " 'angazxman',\n",
       " 'angazxovane',\n",
       " 'angazxuje',\n",
       " 'angazxujucxi',\n",
       " 'angelinom',\n",
       " 'angelopulos',\n",
       " 'angelosa',\n",
       " 'angelovska',\n",
       " 'angio',\n",
       " 'anglikanski',\n",
       " 'anglo',\n",
       " 'anglofonski',\n",
       " 'anglosaksonskih',\n",
       " 'angole',\n",
       " 'anhel',\n",
       " 'anice',\n",
       " 'anifa',\n",
       " 'animaciju',\n",
       " 'animalnog',\n",
       " 'animator',\n",
       " 'animirani',\n",
       " 'animoziteta',\n",
       " 'anin',\n",
       " 'aninimni',\n",
       " 'aniston',\n",
       " 'anitu',\n",
       " 'ank',\n",
       " 'ankarali',\n",
       " 'ankari',\n",
       " 'ankarom',\n",
       " 'anketa',\n",
       " 'anketiranih',\n",
       " 'anketirao',\n",
       " 'anketna',\n",
       " 'anksioznih',\n",
       " 'anksioznost',\n",
       " 'anobolike',\n",
       " 'anoeti',\n",
       " 'anom',\n",
       " 'anoniman',\n",
       " 'anonimnog',\n",
       " 'anonimusa',\n",
       " 'anri',\n",
       " 'anrija',\n",
       " 'anrijem',\n",
       " 'anronio',\n",
       " 'ansa',\n",
       " 'ansambala',\n",
       " 'ansambla',\n",
       " 'ansamblima',\n",
       " 'anski',\n",
       " 'ansxtajn',\n",
       " 'antagoniste',\n",
       " 'antagonizama',\n",
       " 'antal',\n",
       " 'antaliju',\n",
       " 'antasxu',\n",
       " 'antdezijeu',\n",
       " 'ante',\n",
       " 'antelx',\n",
       " 'antena',\n",
       " 'antevski',\n",
       " 'antialbanski',\n",
       " 'antibalisticyke',\n",
       " 'antibilije',\n",
       " 'antibirokratske',\n",
       " 'anticipiranxe',\n",
       " 'anticrkveni',\n",
       " 'anticrnogorskog',\n",
       " 'anticx',\n",
       " 'anticxeva',\n",
       " 'anticykog',\n",
       " 'antidemokratske',\n",
       " 'antidoping',\n",
       " 'antidosovski',\n",
       " 'antievropskoj',\n",
       " 'antifasxisticyke',\n",
       " 'antifasxizam',\n",
       " 'antigone',\n",
       " 'antigraciozo',\n",
       " 'antihasxke',\n",
       " 'antihrist',\n",
       " 'antika',\n",
       " 'antikampanxa',\n",
       " 'antiknih',\n",
       " 'antikomformisticykog',\n",
       " 'antikorupcijskoj',\n",
       " 'antikvarnicama',\n",
       " 'antikvitete',\n",
       " 'antimakedonske',\n",
       " 'antinacionalne',\n",
       " 'antinarativan',\n",
       " 'antinu',\n",
       " 'antiohiji',\n",
       " 'antioksidansa',\n",
       " 'antipna',\n",
       " 'antipod',\n",
       " 'antipodnog',\n",
       " 'antiprogresizam',\n",
       " 'antiradikalskog',\n",
       " 'antiratni',\n",
       " 'antireferendumskoj',\n",
       " 'antireformskog',\n",
       " 'antirezximskih',\n",
       " 'antisedy',\n",
       " 'antisemitizma',\n",
       " 'antisemitske',\n",
       " 'antisrbijanskoj',\n",
       " 'antisrpskog',\n",
       " 'antisrpstvo',\n",
       " 'antiteorije',\n",
       " 'antiteroristicyku',\n",
       " 'antitetoristicyke',\n",
       " 'antiteza',\n",
       " 'antitranzicionih',\n",
       " 'antiumetnosti',\n",
       " 'antivladine',\n",
       " 'antoana',\n",
       " 'antokovicx',\n",
       " 'antologija',\n",
       " 'antologijskim',\n",
       " 'antonele',\n",
       " 'antonicx',\n",
       " 'antonijevicx',\n",
       " 'antonov',\n",
       " 'antonu',\n",
       " 'antrea',\n",
       " 'antropologa',\n",
       " 'antropolosxko',\n",
       " 'antunis',\n",
       " 'antunovicx',\n",
       " 'antverpenu',\n",
       " 'anu',\n",
       " 'anulirali',\n",
       " 'anxa',\n",
       " 'anxards',\n",
       " 'anxeli',\n",
       " 'any',\n",
       " 'anzanelo',\n",
       " 'anzulovicx',\n",
       " 'anzxelikina',\n",
       " 'anzxelina',\n",
       " 'anzxera',\n",
       " 'apa',\n",
       " 'apacyi',\n",
       " 'aparati',\n",
       " 'aparte',\n",
       " 'apartman',\n",
       " 'apartmanima',\n",
       " 'apartnu',\n",
       " 'apaticyno',\n",
       " 'apatija',\n",
       " 'apatinaca',\n",
       " 'apatince',\n",
       " 'apatinska',\n",
       " 'apdajk',\n",
       " 'apel',\n",
       " 'apelacioni',\n",
       " 'apelovala',\n",
       " 'apelujemo',\n",
       " 'apeluju',\n",
       " 'apenine',\n",
       " 'apeninima',\n",
       " 'aperkate',\n",
       " 'apetiti',\n",
       " 'aphex',\n",
       " 'apija',\n",
       " 'apijano',\n",
       " 'aplaudira',\n",
       " 'aplauze',\n",
       " 'aplauzima',\n",
       " 'aplicirao',\n",
       " 'aplikacije',\n",
       " 'aplikanti',\n",
       " 'apoenima',\n",
       " 'apokalipticynim',\n",
       " 'apoliticyni',\n",
       " 'apolo',\n",
       " 'apolonu',\n",
       " 'aporiju',\n",
       " 'apostola',\n",
       " 'apostolidis',\n",
       " 'apostolsku',\n",
       " 'apostrofira',\n",
       " 'apostrofirajucxi',\n",
       " 'apoteke',\n",
       " 'apresirao',\n",
       " 'aprial',\n",
       " 'aprilske',\n",
       " 'apriori',\n",
       " 'apsinta',\n",
       " 'apsolugaoj',\n",
       " 'apsolutini',\n",
       " 'apsolutista',\n",
       " 'apsolutni',\n",
       " 'apsolvent',\n",
       " 'apsolventkinxa',\n",
       " 'apsolvirao',\n",
       " 'apsorbujemo',\n",
       " 'apstinencijalnog',\n",
       " 'apstinencije',\n",
       " 'apstinirati',\n",
       " 'apstrahovanxa',\n",
       " 'apstraktni',\n",
       " 'apsurd',\n",
       " 'apsurdisticyke',\n",
       " 'apsurdnije',\n",
       " 'apsurdnom',\n",
       " 'apume',\n",
       " 'apurne',\n",
       " 'apv',\n",
       " 'ar',\n",
       " 'ara',\n",
       " 'arabiji',\n",
       " 'aragones',\n",
       " 'aralica',\n",
       " 'arandxelovac',\n",
       " 'aranzxmane',\n",
       " 'aranzxnam',\n",
       " 'arapske',\n",
       " 'arben',\n",
       " 'arbitar',\n",
       " 'arbitrazxanog',\n",
       " 'arbitrazxom',\n",
       " 'arbitri',\n",
       " 'arc',\n",
       " 'ard',\n",
       " 'arden',\n",
       " 'ardijan',\n",
       " 'arduman',\n",
       " 'ardxento',\n",
       " 'ardxuni',\n",
       " 'arenom',\n",
       " 'arenu',\n",
       " 'areodromu',\n",
       " 'areta',\n",
       " 'arevalo',\n",
       " 'arex',\n",
       " 'arezxininu',\n",
       " 'arezxinom',\n",
       " 'argan',\n",
       " 'arganova',\n",
       " 'argeni',\n",
       " 'argentinaca',\n",
       " 'argentinca',\n",
       " 'argentinkom',\n",
       " 'argentinske',\n",
       " 'argentisnkih',\n",
       " 'argumenata',\n",
       " 'argumentacije',\n",
       " 'argumenti',\n",
       " 'argumentovani',\n",
       " 'argumetnima',\n",
       " 'argus',\n",
       " 'arhaicyno',\n",
       " 'arhandxeli',\n",
       " 'arheolog',\n",
       " 'arheologije',\n",
       " 'arheolosxko',\n",
       " 'arhetipski',\n",
       " 'arhidxakona',\n",
       " 'arhiepiskop',\n",
       " 'arhijerej',\n",
       " 'arhijerejskog',\n",
       " 'arhimandrit',\n",
       " 'arhineprijatelxa',\n",
       " 'arhipiskopa',\n",
       " 'arhitektonskog',\n",
       " 'arhitektu',\n",
       " 'arhiva',\n",
       " 'arhivalije',\n",
       " 'arhivira',\n",
       " 'arhivsko',\n",
       " 'arhus',\n",
       " 'ari',\n",
       " 'ariela',\n",
       " 'arifi',\n",
       " 'arijana',\n",
       " 'arije',\n",
       " 'arijela',\n",
       " 'arilxe',\n",
       " 'arilxskom',\n",
       " 'arisa',\n",
       " 'arisom',\n",
       " 'aristofanove',\n",
       " 'aristokratizam',\n",
       " 'aristotel',\n",
       " 'aristotelijansko',\n",
       " 'aristotelovski',\n",
       " 'aritmija',\n",
       " 'arizanov',\n",
       " 'arizanovicx',\n",
       " 'arizmendi',\n",
       " 'arizone',\n",
       " 'arjan',\n",
       " 'arkadija',\n",
       " 'arkadu',\n",
       " 'arkana',\n",
       " 'arkanovo',\n",
       " 'arketi',\n",
       " 'arko',\n",
       " 'arkticyke',\n",
       " 'arkuri',\n",
       " 'arlaucyu',\n",
       " 'arlaukao',\n",
       " 'armadxan',\n",
       " 'armando',\n",
       " 'armanija',\n",
       " 'armejcima',\n",
       " 'armenija',\n",
       " 'armenulicx',\n",
       " 'armiji',\n",
       " 'armijskih',\n",
       " 'arminija',\n",
       " 'arminu',\n",
       " 'armoa',\n",
       " 'armori',\n",
       " 'armstrong',\n",
       " 'arnaut',\n",
       " 'arnericx',\n",
       " 'arnericxeva',\n",
       " 'arnio',\n",
       " 'arogancije',\n",
       " 'arogantna',\n",
       " 'arojo',\n",
       " 'arome',\n",
       " 'aronijan',\n",
       " 'arpad',\n",
       " 'arpedxiranim',\n",
       " 'ars',\n",
       " 'arsen',\n",
       " 'arsenal',\n",
       " 'arsenija',\n",
       " 'arsenijevicx',\n",
       " 'arsenova',\n",
       " 'arsicxa',\n",
       " 'arsim',\n",
       " 'arskog',\n",
       " 'arslan',\n",
       " 'arsovicx',\n",
       " 'arsxambo',\n",
       " 'arsxinima',\n",
       " 'arsxinom',\n",
       " 'art',\n",
       " 'artefakti',\n",
       " 'artemije',\n",
       " 'arterije',\n",
       " 'artesta',\n",
       " 'artget',\n",
       " 'articyoke',\n",
       " 'artificijelna',\n",
       " 'artikala',\n",
       " 'artikulisanxu',\n",
       " 'artikulisxe',\n",
       " 'artilxerijski',\n",
       " 'artisticum',\n",
       " 'artman',\n",
       " 'artmanova',\n",
       " 'artmedija',\n",
       " 'artura',\n",
       " 'aruabarene',\n",
       " 'aruda',\n",
       " 'arvedi',\n",
       " 'asa',\n",
       " 'asagoe',\n",
       " 'asamoaha',\n",
       " 'asante',\n",
       " 'asensi',\n",
       " 'asfalira',\n",
       " 'asfalta',\n",
       " 'asfaltirati',\n",
       " 'asgaja',\n",
       " 'asiekat',\n",
       " 'asimetricyan',\n",
       " 'asimilacija',\n",
       " 'asimilirao',\n",
       " 'asis',\n",
       " 'asistela',\n",
       " 'asistenata',\n",
       " 'asistencija',\n",
       " 'asistentima',\n",
       " 'asistentom',\n",
       " 'asistiranxu',\n",
       " 'asistirao',\n",
       " 'askabana',\n",
       " 'aski',\n",
       " 'askoli',\n",
       " 'askoni',\n",
       " 'asmundsona',\n",
       " 'asocijacija',\n",
       " 'asocijativna',\n",
       " 'asocira',\n",
       " 'asom',\n",
       " 'asortimana',\n",
       " 'asosxietid',\n",
       " 'asosxijeted',\n",
       " 'asova',\n",
       " ...]"
      ]
     },
     "execution_count": 12,
     "metadata": {},
     "output_type": "execute_result"
    }
   ],
   "source": [
    "dv.feature_names_"
   ]
  },
  {
   "cell_type": "code",
   "execution_count": 13,
   "id": "nuclear-multiple",
   "metadata": {},
   "outputs": [],
   "source": [
    "import pandas as pd"
   ]
  },
  {
   "cell_type": "code",
   "execution_count": 14,
   "id": "lesser-practice",
   "metadata": {},
   "outputs": [],
   "source": [
    "df = pd.DataFrame(X.toarray(), columns=dv.feature_names_)"
   ]
  },
  {
   "cell_type": "code",
   "execution_count": 15,
   "id": "residential-compression",
   "metadata": {},
   "outputs": [
    {
     "data": {
      "text/html": [
       "<div>\n",
       "<style scoped>\n",
       "    .dataframe tbody tr th:only-of-type {\n",
       "        vertical-align: middle;\n",
       "    }\n",
       "\n",
       "    .dataframe tbody tr th {\n",
       "        vertical-align: top;\n",
       "    }\n",
       "\n",
       "    .dataframe thead th {\n",
       "        text-align: right;\n",
       "    }\n",
       "</style>\n",
       "<table border=\"1\" class=\"dataframe\">\n",
       "  <thead>\n",
       "    <tr style=\"text-align: right;\">\n",
       "      <th></th>\n",
       "      <th>ab</th>\n",
       "      <th>abasu</th>\n",
       "      <th>abati</th>\n",
       "      <th>abc</th>\n",
       "      <th>abdul</th>\n",
       "      <th>abdulah</th>\n",
       "      <th>abe</th>\n",
       "      <th>aberdin</th>\n",
       "      <th>abhaziji</th>\n",
       "      <th>abida</th>\n",
       "      <th>...</th>\n",
       "      <th>zxurno</th>\n",
       "      <th>zxustel</th>\n",
       "      <th>zxustrine</th>\n",
       "      <th>zxustro</th>\n",
       "      <th>zxuticx</th>\n",
       "      <th>zxutih</th>\n",
       "      <th>zxutilovine</th>\n",
       "      <th>zxuto</th>\n",
       "      <th>zxutra</th>\n",
       "      <th>zxuzxa</th>\n",
       "    </tr>\n",
       "  </thead>\n",
       "  <tbody>\n",
       "    <tr>\n",
       "      <th>0</th>\n",
       "      <td>0.0</td>\n",
       "      <td>0.0</td>\n",
       "      <td>0.0</td>\n",
       "      <td>0.0</td>\n",
       "      <td>0.0</td>\n",
       "      <td>0.0</td>\n",
       "      <td>0.0</td>\n",
       "      <td>0.0</td>\n",
       "      <td>0.0</td>\n",
       "      <td>0.0</td>\n",
       "      <td>...</td>\n",
       "      <td>0.0</td>\n",
       "      <td>0.0</td>\n",
       "      <td>0.0</td>\n",
       "      <td>0.0</td>\n",
       "      <td>0.0</td>\n",
       "      <td>0.0</td>\n",
       "      <td>0.0</td>\n",
       "      <td>0.0</td>\n",
       "      <td>0.0</td>\n",
       "      <td>0.0</td>\n",
       "    </tr>\n",
       "    <tr>\n",
       "      <th>1</th>\n",
       "      <td>0.0</td>\n",
       "      <td>0.0</td>\n",
       "      <td>0.0</td>\n",
       "      <td>0.0</td>\n",
       "      <td>0.0</td>\n",
       "      <td>0.0</td>\n",
       "      <td>0.0</td>\n",
       "      <td>0.0</td>\n",
       "      <td>0.0</td>\n",
       "      <td>0.0</td>\n",
       "      <td>...</td>\n",
       "      <td>0.0</td>\n",
       "      <td>0.0</td>\n",
       "      <td>0.0</td>\n",
       "      <td>0.0</td>\n",
       "      <td>0.0</td>\n",
       "      <td>0.0</td>\n",
       "      <td>0.0</td>\n",
       "      <td>0.0</td>\n",
       "      <td>0.0</td>\n",
       "      <td>0.0</td>\n",
       "    </tr>\n",
       "    <tr>\n",
       "      <th>2</th>\n",
       "      <td>0.0</td>\n",
       "      <td>0.0</td>\n",
       "      <td>0.0</td>\n",
       "      <td>0.0</td>\n",
       "      <td>0.0</td>\n",
       "      <td>0.0</td>\n",
       "      <td>0.0</td>\n",
       "      <td>0.0</td>\n",
       "      <td>0.0</td>\n",
       "      <td>0.0</td>\n",
       "      <td>...</td>\n",
       "      <td>0.0</td>\n",
       "      <td>0.0</td>\n",
       "      <td>0.0</td>\n",
       "      <td>0.0</td>\n",
       "      <td>0.0</td>\n",
       "      <td>0.0</td>\n",
       "      <td>0.0</td>\n",
       "      <td>0.0</td>\n",
       "      <td>0.0</td>\n",
       "      <td>0.0</td>\n",
       "    </tr>\n",
       "    <tr>\n",
       "      <th>3</th>\n",
       "      <td>0.0</td>\n",
       "      <td>0.0</td>\n",
       "      <td>0.0</td>\n",
       "      <td>0.0</td>\n",
       "      <td>0.0</td>\n",
       "      <td>0.0</td>\n",
       "      <td>0.0</td>\n",
       "      <td>0.0</td>\n",
       "      <td>0.0</td>\n",
       "      <td>0.0</td>\n",
       "      <td>...</td>\n",
       "      <td>0.0</td>\n",
       "      <td>0.0</td>\n",
       "      <td>0.0</td>\n",
       "      <td>0.0</td>\n",
       "      <td>0.0</td>\n",
       "      <td>0.0</td>\n",
       "      <td>0.0</td>\n",
       "      <td>0.0</td>\n",
       "      <td>0.0</td>\n",
       "      <td>0.0</td>\n",
       "    </tr>\n",
       "    <tr>\n",
       "      <th>4</th>\n",
       "      <td>0.0</td>\n",
       "      <td>0.0</td>\n",
       "      <td>0.0</td>\n",
       "      <td>0.0</td>\n",
       "      <td>0.0</td>\n",
       "      <td>0.0</td>\n",
       "      <td>0.0</td>\n",
       "      <td>0.0</td>\n",
       "      <td>0.0</td>\n",
       "      <td>0.0</td>\n",
       "      <td>...</td>\n",
       "      <td>0.0</td>\n",
       "      <td>0.0</td>\n",
       "      <td>0.0</td>\n",
       "      <td>0.0</td>\n",
       "      <td>0.0</td>\n",
       "      <td>0.0</td>\n",
       "      <td>0.0</td>\n",
       "      <td>0.0</td>\n",
       "      <td>0.0</td>\n",
       "      <td>0.0</td>\n",
       "    </tr>\n",
       "  </tbody>\n",
       "</table>\n",
       "<p>5 rows × 36830 columns</p>\n",
       "</div>"
      ],
      "text/plain": [
       "    ab  abasu  abati  abc  abdul  abdulah  abe  aberdin  abhaziji  abida  ...  \\\n",
       "0  0.0    0.0    0.0  0.0    0.0      0.0  0.0      0.0       0.0    0.0  ...   \n",
       "1  0.0    0.0    0.0  0.0    0.0      0.0  0.0      0.0       0.0    0.0  ...   \n",
       "2  0.0    0.0    0.0  0.0    0.0      0.0  0.0      0.0       0.0    0.0  ...   \n",
       "3  0.0    0.0    0.0  0.0    0.0      0.0  0.0      0.0       0.0    0.0  ...   \n",
       "4  0.0    0.0    0.0  0.0    0.0      0.0  0.0      0.0       0.0    0.0  ...   \n",
       "\n",
       "   zxurno  zxustel  zxustrine  zxustro  zxuticx  zxutih  zxutilovine  zxuto  \\\n",
       "0     0.0      0.0        0.0      0.0      0.0     0.0          0.0    0.0   \n",
       "1     0.0      0.0        0.0      0.0      0.0     0.0          0.0    0.0   \n",
       "2     0.0      0.0        0.0      0.0      0.0     0.0          0.0    0.0   \n",
       "3     0.0      0.0        0.0      0.0      0.0     0.0          0.0    0.0   \n",
       "4     0.0      0.0        0.0      0.0      0.0     0.0          0.0    0.0   \n",
       "\n",
       "   zxutra  zxuzxa  \n",
       "0     0.0     0.0  \n",
       "1     0.0     0.0  \n",
       "2     0.0     0.0  \n",
       "3     0.0     0.0  \n",
       "4     0.0     0.0  \n",
       "\n",
       "[5 rows x 36830 columns]"
      ]
     },
     "execution_count": 15,
     "metadata": {},
     "output_type": "execute_result"
    }
   ],
   "source": [
    "df.head()"
   ]
  },
  {
   "cell_type": "code",
   "execution_count": 16,
   "id": "geological-composition",
   "metadata": {},
   "outputs": [],
   "source": [
    "from sklearn.model_selection import train_test_split"
   ]
  },
  {
   "cell_type": "code",
   "execution_count": 17,
   "id": "aquatic-stanley",
   "metadata": {},
   "outputs": [],
   "source": [
    "X_train, X_test, y_train, y_test = train_test_split(df, classes, test_size=0.3, stratify=classes)"
   ]
  },
  {
   "cell_type": "code",
   "execution_count": 18,
   "id": "adjacent-happening",
   "metadata": {},
   "outputs": [
    {
     "data": {
      "text/plain": [
       "(2444, 36830)"
      ]
     },
     "execution_count": 18,
     "metadata": {},
     "output_type": "execute_result"
    }
   ],
   "source": [
    "X_train.shape"
   ]
  },
  {
   "cell_type": "code",
   "execution_count": 19,
   "id": "distinct-carnival",
   "metadata": {},
   "outputs": [
    {
     "data": {
      "text/plain": [
       "(1048, 36830)"
      ]
     },
     "execution_count": 19,
     "metadata": {},
     "output_type": "execute_result"
    }
   ],
   "source": [
    "X_test.shape"
   ]
  },
  {
   "cell_type": "code",
   "execution_count": 20,
   "id": "distant-mercy",
   "metadata": {},
   "outputs": [],
   "source": [
    "from sklearn.naive_bayes import MultinomialNB"
   ]
  },
  {
   "cell_type": "code",
   "execution_count": 21,
   "id": "fancy-bobby",
   "metadata": {},
   "outputs": [],
   "source": [
    "model = MultinomialNB()"
   ]
  },
  {
   "cell_type": "code",
   "execution_count": 22,
   "id": "duplicate-basement",
   "metadata": {},
   "outputs": [
    {
     "data": {
      "text/plain": [
       "MultinomialNB()"
      ]
     },
     "execution_count": 22,
     "metadata": {},
     "output_type": "execute_result"
    }
   ],
   "source": [
    "model.fit(X_train, y_train)"
   ]
  },
  {
   "cell_type": "code",
   "execution_count": 23,
   "id": "unavailable-trouble",
   "metadata": {},
   "outputs": [],
   "source": [
    "y_pred = model.predict(X_test)"
   ]
  },
  {
   "cell_type": "code",
   "execution_count": 26,
   "id": "friendly-elevation",
   "metadata": {},
   "outputs": [],
   "source": [
    "from sklearn.metrics import accuracy_score, classification_report, confusion_matrix"
   ]
  },
  {
   "cell_type": "code",
   "execution_count": 27,
   "id": "german-crest",
   "metadata": {},
   "outputs": [
    {
     "data": {
      "text/plain": [
       "0.8759541984732825"
      ]
     },
     "execution_count": 27,
     "metadata": {},
     "output_type": "execute_result"
    }
   ],
   "source": [
    "accuracy_score(y_test, y_pred)"
   ]
  },
  {
   "cell_type": "code",
   "execution_count": 28,
   "id": "crazy-volleyball",
   "metadata": {},
   "outputs": [
    {
     "data": {
      "text/plain": [
       "array([[ 85,   3,   1,  11,   0],\n",
       "       [  6, 122,   3,  54,   1],\n",
       "       [  1,   2, 179,   5,   1],\n",
       "       [  6,  19,   5, 248,   3],\n",
       "       [  0,   6,   1,   2, 284]], dtype=int64)"
      ]
     },
     "execution_count": 28,
     "metadata": {},
     "output_type": "execute_result"
    }
   ],
   "source": [
    "confusion_matrix(y_test, y_pred)"
   ]
  },
  {
   "cell_type": "code",
   "execution_count": 29,
   "id": "promising-soldier",
   "metadata": {},
   "outputs": [],
   "source": [
    "from sklearn.tree import DecisionTreeClassifier"
   ]
  },
  {
   "cell_type": "code",
   "execution_count": 30,
   "id": "flying-object",
   "metadata": {},
   "outputs": [],
   "source": [
    "model = DecisionTreeClassifier()"
   ]
  },
  {
   "cell_type": "code",
   "execution_count": 31,
   "id": "robust-prisoner",
   "metadata": {},
   "outputs": [
    {
     "data": {
      "text/plain": [
       "DecisionTreeClassifier()"
      ]
     },
     "execution_count": 31,
     "metadata": {},
     "output_type": "execute_result"
    }
   ],
   "source": [
    "model.fit(X_train, y_train)"
   ]
  },
  {
   "cell_type": "code",
   "execution_count": 32,
   "id": "broadband-explanation",
   "metadata": {},
   "outputs": [],
   "source": [
    "y_pred = model.predict(X_test)"
   ]
  },
  {
   "cell_type": "code",
   "execution_count": 33,
   "id": "english-wrist",
   "metadata": {},
   "outputs": [
    {
     "data": {
      "text/plain": [
       "0.7213740458015268"
      ]
     },
     "execution_count": 33,
     "metadata": {},
     "output_type": "execute_result"
    }
   ],
   "source": [
    "accuracy_scoreuracy_score(y_test, y_pred)"
   ]
  },
  {
   "cell_type": "code",
   "execution_count": 34,
   "id": "viral-formula",
   "metadata": {},
   "outputs": [],
   "source": [
    "from sklearn.neighbors import KNeighborsClassifier"
   ]
  },
  {
   "cell_type": "code",
   "execution_count": 35,
   "id": "successful-heath",
   "metadata": {},
   "outputs": [],
   "source": [
    "model = KNeighborsClassifier()"
   ]
  },
  {
   "cell_type": "code",
   "execution_count": 36,
   "id": "convertible-resource",
   "metadata": {},
   "outputs": [
    {
     "data": {
      "text/plain": [
       "KNeighborsClassifier()"
      ]
     },
     "execution_count": 36,
     "metadata": {},
     "output_type": "execute_result"
    }
   ],
   "source": [
    "model.fit(X_train, y_train)"
   ]
  },
  {
   "cell_type": "code",
   "execution_count": 37,
   "id": "absolute-cameroon",
   "metadata": {},
   "outputs": [],
   "source": [
    "y_pred = model.predict(X_test)"
   ]
  },
  {
   "cell_type": "code",
   "execution_count": 38,
   "id": "humanitarian-method",
   "metadata": {},
   "outputs": [
    {
     "data": {
      "text/plain": [
       "0.6240458015267175"
      ]
     },
     "execution_count": 38,
     "metadata": {},
     "output_type": "execute_result"
    }
   ],
   "source": [
    "accuracy_score(y_test, y_pred)"
   ]
  },
  {
   "cell_type": "markdown",
   "id": "diverse-stock",
   "metadata": {},
   "source": [
    "# MLP"
   ]
  },
  {
   "cell_type": "code",
   "execution_count": 39,
   "id": "native-relaxation",
   "metadata": {},
   "outputs": [],
   "source": [
    "import pandas as pd"
   ]
  },
  {
   "cell_type": "code",
   "execution_count": 40,
   "id": "unavailable-arrangement",
   "metadata": {},
   "outputs": [],
   "source": [
    "df = pd.read_csv('../iris.csv')"
   ]
  },
  {
   "cell_type": "code",
   "execution_count": 42,
   "id": "vulnerable-prospect",
   "metadata": {},
   "outputs": [],
   "source": [
    "X = df.drop('Species', axis=1)"
   ]
  },
  {
   "cell_type": "code",
   "execution_count": 43,
   "id": "composite-hungary",
   "metadata": {},
   "outputs": [
    {
     "data": {
      "text/html": [
       "<div>\n",
       "<style scoped>\n",
       "    .dataframe tbody tr th:only-of-type {\n",
       "        vertical-align: middle;\n",
       "    }\n",
       "\n",
       "    .dataframe tbody tr th {\n",
       "        vertical-align: top;\n",
       "    }\n",
       "\n",
       "    .dataframe thead th {\n",
       "        text-align: right;\n",
       "    }\n",
       "</style>\n",
       "<table border=\"1\" class=\"dataframe\">\n",
       "  <thead>\n",
       "    <tr style=\"text-align: right;\">\n",
       "      <th></th>\n",
       "      <th>Sepal_Length</th>\n",
       "      <th>Sepal_Width</th>\n",
       "      <th>Petal_Length</th>\n",
       "      <th>Petal_Width</th>\n",
       "    </tr>\n",
       "  </thead>\n",
       "  <tbody>\n",
       "    <tr>\n",
       "      <th>0</th>\n",
       "      <td>5.1</td>\n",
       "      <td>3.5</td>\n",
       "      <td>1.4</td>\n",
       "      <td>0.2</td>\n",
       "    </tr>\n",
       "    <tr>\n",
       "      <th>1</th>\n",
       "      <td>4.9</td>\n",
       "      <td>3.0</td>\n",
       "      <td>1.4</td>\n",
       "      <td>0.2</td>\n",
       "    </tr>\n",
       "    <tr>\n",
       "      <th>2</th>\n",
       "      <td>4.7</td>\n",
       "      <td>3.2</td>\n",
       "      <td>1.3</td>\n",
       "      <td>0.2</td>\n",
       "    </tr>\n",
       "    <tr>\n",
       "      <th>3</th>\n",
       "      <td>4.6</td>\n",
       "      <td>3.1</td>\n",
       "      <td>1.5</td>\n",
       "      <td>0.2</td>\n",
       "    </tr>\n",
       "    <tr>\n",
       "      <th>4</th>\n",
       "      <td>5.0</td>\n",
       "      <td>3.6</td>\n",
       "      <td>1.4</td>\n",
       "      <td>0.2</td>\n",
       "    </tr>\n",
       "  </tbody>\n",
       "</table>\n",
       "</div>"
      ],
      "text/plain": [
       "   Sepal_Length  Sepal_Width  Petal_Length  Petal_Width\n",
       "0           5.1          3.5           1.4          0.2\n",
       "1           4.9          3.0           1.4          0.2\n",
       "2           4.7          3.2           1.3          0.2\n",
       "3           4.6          3.1           1.5          0.2\n",
       "4           5.0          3.6           1.4          0.2"
      ]
     },
     "execution_count": 43,
     "metadata": {},
     "output_type": "execute_result"
    }
   ],
   "source": [
    "varietyX.head()"
   ]
  },
  {
   "cell_type": "code",
   "execution_count": 44,
   "id": "departmental-birth",
   "metadata": {},
   "outputs": [],
   "source": [
    "y = df['Species']"
   ]
  },
  {
   "cell_type": "code",
   "execution_count": 45,
   "id": "imposed-valley",
   "metadata": {},
   "outputs": [],
   "source": [
    "from sklearn.model_selection import train_test_split"
   ]
  },
  {
   "cell_type": "code",
   "execution_count": 46,
   "id": "royal-authority",
   "metadata": {},
   "outputs": [],
   "source": [
    "X_train, X_test, y_train, y_test = train_test_split(X, y, test_size=0.3, stratify=y)"
   ]
  },
  {
   "cell_type": "code",
   "execution_count": 47,
   "id": "provincial-peoples",
   "metadata": {},
   "outputs": [],
   "source": [
    "from sklearn.neural_network import MLPClassifier"
   ]
  },
  {
   "cell_type": "code",
   "execution_count": 48,
   "id": "collective-mongolia",
   "metadata": {},
   "outputs": [],
   "source": [
    "# suma po svim trening instancama (y - y_p)^2"
   ]
  },
  {
   "cell_type": "code",
   "execution_count": 61,
   "id": "difficult-institution",
   "metadata": {},
   "outputs": [],
   "source": [
    "model = MLPClassifier(hidden_layer_sizes=(50, 5), max_iter=30)"
   ]
  },
  {
   "cell_type": "code",
   "execution_count": 62,
   "id": "thirty-rwanda",
   "metadata": {},
   "outputs": [
    {
     "name": "stderr",
     "output_type": "stream",
     "text": [
      "C:\\Users\\User\\miniconda3\\envs\\ip\\lib\\site-packages\\sklearn\\neural_network\\_multilayer_perceptron.py:614: ConvergenceWarning: Stochastic Optimizer: Maximum iterations (30) reached and the optimization hasn't converged yet.\n",
      "  warnings.warn(\n"
     ]
    },
    {
     "data": {
      "text/plain": [
       "MLPClassifier(hidden_layer_sizes=(50, 5), max_iter=30)"
      ]
     },
     "execution_count": 62,
     "metadata": {},
     "output_type": "execute_result"
    }
   ],
   "source": [
    "model.fit(X_train, y_train)"
   ]
  },
  {
   "cell_type": "code",
   "execution_count": 63,
   "id": "suspected-boulder",
   "metadata": {},
   "outputs": [],
   "source": [
    "y_pred = model.predict(X_test)"
   ]
  },
  {
   "cell_type": "code",
   "execution_count": 64,
   "id": "partial-poetry",
   "metadata": {},
   "outputs": [
    {
     "data": {
      "text/plain": [
       "array([[15,  0,  0],\n",
       "       [ 0,  2, 13],\n",
       "       [ 0,  4, 11]], dtype=int64)"
      ]
     },
     "execution_count": 64,
     "metadata": {},
     "output_type": "execute_result"
    }
   ],
   "source": [
    "confusion_matrix(y_test, y_pred)"
   ]
  },
  {
   "cell_type": "markdown",
   "id": "civilian-shell",
   "metadata": {},
   "source": [
    "# PCA"
   ]
  },
  {
   "cell_type": "code",
   "execution_count": 7,
   "id": "encouraging-fields",
   "metadata": {},
   "outputs": [],
   "source": [
    "import pandas as pd"
   ]
  },
  {
   "cell_type": "code",
   "execution_count": 8,
   "id": "valid-partition",
   "metadata": {},
   "outputs": [],
   "source": [
    "df = pd.read_csv('../iris.csv')"
   ]
  },
  {
   "cell_type": "code",
   "execution_count": 9,
   "id": "experienced-prerequisite",
   "metadata": {},
   "outputs": [
    {
     "data": {
      "text/plain": [
       "['Sepal_Length', 'Sepal_Width', 'Petal_Length', 'Petal_Width']"
      ]
     },
     "execution_count": 9,
     "metadata": {},
     "output_type": "execute_result"
    }
   ],
   "source": [
    "# feature_names = X.\n",
    "X = df.drop(\"Species\", axis=1)\n",
    "feature_names = X.columns.tolist()\n",
    "feature_names"
   ]
  },
  {
   "cell_type": "code",
   "execution_count": 10,
   "id": "understanding-hammer",
   "metadata": {},
   "outputs": [],
   "source": [
    "y = df['Species']"
   ]
  },
  {
   "cell_type": "code",
   "execution_count": 11,
   "id": "previous-calculator",
   "metadata": {},
   "outputs": [],
   "source": [
    "from sklearn.preprocessing import StandardScaler"
   ]
  },
  {
   "cell_type": "code",
   "execution_count": 12,
   "id": "direct-former",
   "metadata": {},
   "outputs": [],
   "source": [
    "scaler = StandardScaler()"
   ]
  },
  {
   "cell_type": "code",
   "execution_count": 13,
   "id": "elder-container",
   "metadata": {},
   "outputs": [],
   "source": [
    "X = pd.DataFrame(scaler.fit_transform(X), columns=feature_names)"
   ]
  },
  {
   "cell_type": "code",
   "execution_count": 14,
   "id": "proud-bicycle",
   "metadata": {},
   "outputs": [
    {
     "data": {
      "text/html": [
       "<div>\n",
       "<style scoped>\n",
       "    .dataframe tbody tr th:only-of-type {\n",
       "        vertical-align: middle;\n",
       "    }\n",
       "\n",
       "    .dataframe tbody tr th {\n",
       "        vertical-align: top;\n",
       "    }\n",
       "\n",
       "    .dataframe thead th {\n",
       "        text-align: right;\n",
       "    }\n",
       "</style>\n",
       "<table border=\"1\" class=\"dataframe\">\n",
       "  <thead>\n",
       "    <tr style=\"text-align: right;\">\n",
       "      <th></th>\n",
       "      <th>Sepal_Length</th>\n",
       "      <th>Sepal_Width</th>\n",
       "      <th>Petal_Length</th>\n",
       "      <th>Petal_Width</th>\n",
       "    </tr>\n",
       "  </thead>\n",
       "  <tbody>\n",
       "    <tr>\n",
       "      <th>0</th>\n",
       "      <td>-0.900681</td>\n",
       "      <td>1.019004</td>\n",
       "      <td>-1.340227</td>\n",
       "      <td>-1.315444</td>\n",
       "    </tr>\n",
       "    <tr>\n",
       "      <th>1</th>\n",
       "      <td>-1.143017</td>\n",
       "      <td>-0.131979</td>\n",
       "      <td>-1.340227</td>\n",
       "      <td>-1.315444</td>\n",
       "    </tr>\n",
       "    <tr>\n",
       "      <th>2</th>\n",
       "      <td>-1.385353</td>\n",
       "      <td>0.328414</td>\n",
       "      <td>-1.397064</td>\n",
       "      <td>-1.315444</td>\n",
       "    </tr>\n",
       "    <tr>\n",
       "      <th>3</th>\n",
       "      <td>-1.506521</td>\n",
       "      <td>0.098217</td>\n",
       "      <td>-1.283389</td>\n",
       "      <td>-1.315444</td>\n",
       "    </tr>\n",
       "    <tr>\n",
       "      <th>4</th>\n",
       "      <td>-1.021849</td>\n",
       "      <td>1.249201</td>\n",
       "      <td>-1.340227</td>\n",
       "      <td>-1.315444</td>\n",
       "    </tr>\n",
       "    <tr>\n",
       "      <th>...</th>\n",
       "      <td>...</td>\n",
       "      <td>...</td>\n",
       "      <td>...</td>\n",
       "      <td>...</td>\n",
       "    </tr>\n",
       "    <tr>\n",
       "      <th>145</th>\n",
       "      <td>1.038005</td>\n",
       "      <td>-0.131979</td>\n",
       "      <td>0.819596</td>\n",
       "      <td>1.448832</td>\n",
       "    </tr>\n",
       "    <tr>\n",
       "      <th>146</th>\n",
       "      <td>0.553333</td>\n",
       "      <td>-1.282963</td>\n",
       "      <td>0.705921</td>\n",
       "      <td>0.922303</td>\n",
       "    </tr>\n",
       "    <tr>\n",
       "      <th>147</th>\n",
       "      <td>0.795669</td>\n",
       "      <td>-0.131979</td>\n",
       "      <td>0.819596</td>\n",
       "      <td>1.053935</td>\n",
       "    </tr>\n",
       "    <tr>\n",
       "      <th>148</th>\n",
       "      <td>0.432165</td>\n",
       "      <td>0.788808</td>\n",
       "      <td>0.933271</td>\n",
       "      <td>1.448832</td>\n",
       "    </tr>\n",
       "    <tr>\n",
       "      <th>149</th>\n",
       "      <td>0.068662</td>\n",
       "      <td>-0.131979</td>\n",
       "      <td>0.762758</td>\n",
       "      <td>0.790671</td>\n",
       "    </tr>\n",
       "  </tbody>\n",
       "</table>\n",
       "<p>150 rows × 4 columns</p>\n",
       "</div>"
      ],
      "text/plain": [
       "     Sepal_Length  Sepal_Width  Petal_Length  Petal_Width\n",
       "0       -0.900681     1.019004     -1.340227    -1.315444\n",
       "1       -1.143017    -0.131979     -1.340227    -1.315444\n",
       "2       -1.385353     0.328414     -1.397064    -1.315444\n",
       "3       -1.506521     0.098217     -1.283389    -1.315444\n",
       "4       -1.021849     1.249201     -1.340227    -1.315444\n",
       "..            ...          ...           ...          ...\n",
       "145      1.038005    -0.131979      0.819596     1.448832\n",
       "146      0.553333    -1.282963      0.705921     0.922303\n",
       "147      0.795669    -0.131979      0.819596     1.053935\n",
       "148      0.432165     0.788808      0.933271     1.448832\n",
       "149      0.068662    -0.131979      0.762758     0.790671\n",
       "\n",
       "[150 rows x 4 columns]"
      ]
     },
     "execution_count": 14,
     "metadata": {},
     "output_type": "execute_result"
    }
   ],
   "source": [
    "X"
   ]
  },
  {
   "cell_type": "code",
   "execution_count": 15,
   "id": "sonic-chase",
   "metadata": {},
   "outputs": [],
   "source": [
    "from sklearn.decomposition import PCA"
   ]
  },
  {
   "cell_type": "code",
   "execution_count": 16,
   "id": "digital-lewis",
   "metadata": {},
   "outputs": [],
   "source": [
    "pca = PCA()"
   ]
  },
  {
   "cell_type": "code",
   "execution_count": 17,
   "id": "universal-chain",
   "metadata": {},
   "outputs": [
    {
     "data": {
      "text/plain": [
       "PCA()"
      ]
     },
     "execution_count": 17,
     "metadata": {},
     "output_type": "execute_result"
    }
   ],
   "source": [
    "pca.fit(X)"
   ]
  },
  {
   "cell_type": "code",
   "execution_count": 18,
   "id": "comprehensive-madrid",
   "metadata": {},
   "outputs": [],
   "source": [
    "pca_names = [f'pca_{i}' for i in range(pca.n_components_)]"
   ]
  },
  {
   "cell_type": "code",
   "execution_count": 19,
   "id": "adequate-intelligence",
   "metadata": {},
   "outputs": [
    {
     "data": {
      "text/plain": [
       "['pca_0', 'pca_1', 'pca_2', 'pca_3']"
      ]
     },
     "execution_count": 19,
     "metadata": {},
     "output_type": "execute_result"
    }
   ],
   "source": [
    "pca_names"
   ]
  },
  {
   "cell_type": "code",
   "execution_count": 20,
   "id": "civilian-fellowship",
   "metadata": {},
   "outputs": [],
   "source": [
    "X = pd.DataFrame(pca.transform(X), columns=pca_names)"
   ]
  },
  {
   "cell_type": "code",
   "execution_count": 21,
   "id": "decent-attraction",
   "metadata": {},
   "outputs": [
    {
     "data": {
      "text/html": [
       "<div>\n",
       "<style scoped>\n",
       "    .dataframe tbody tr th:only-of-type {\n",
       "        vertical-align: middle;\n",
       "    }\n",
       "\n",
       "    .dataframe tbody tr th {\n",
       "        vertical-align: top;\n",
       "    }\n",
       "\n",
       "    .dataframe thead th {\n",
       "        text-align: right;\n",
       "    }\n",
       "</style>\n",
       "<table border=\"1\" class=\"dataframe\">\n",
       "  <thead>\n",
       "    <tr style=\"text-align: right;\">\n",
       "      <th></th>\n",
       "      <th>pca_0</th>\n",
       "      <th>pca_1</th>\n",
       "      <th>pca_2</th>\n",
       "      <th>pca_3</th>\n",
       "    </tr>\n",
       "  </thead>\n",
       "  <tbody>\n",
       "    <tr>\n",
       "      <th>0</th>\n",
       "      <td>-2.264703</td>\n",
       "      <td>0.480027</td>\n",
       "      <td>-0.127706</td>\n",
       "      <td>-0.024168</td>\n",
       "    </tr>\n",
       "    <tr>\n",
       "      <th>1</th>\n",
       "      <td>-2.080961</td>\n",
       "      <td>-0.674134</td>\n",
       "      <td>-0.234609</td>\n",
       "      <td>-0.103007</td>\n",
       "    </tr>\n",
       "    <tr>\n",
       "      <th>2</th>\n",
       "      <td>-2.364229</td>\n",
       "      <td>-0.341908</td>\n",
       "      <td>0.044201</td>\n",
       "      <td>-0.028377</td>\n",
       "    </tr>\n",
       "    <tr>\n",
       "      <th>3</th>\n",
       "      <td>-2.299384</td>\n",
       "      <td>-0.597395</td>\n",
       "      <td>0.091290</td>\n",
       "      <td>0.065956</td>\n",
       "    </tr>\n",
       "    <tr>\n",
       "      <th>4</th>\n",
       "      <td>-2.389842</td>\n",
       "      <td>0.646835</td>\n",
       "      <td>0.015738</td>\n",
       "      <td>0.035923</td>\n",
       "    </tr>\n",
       "    <tr>\n",
       "      <th>...</th>\n",
       "      <td>...</td>\n",
       "      <td>...</td>\n",
       "      <td>...</td>\n",
       "      <td>...</td>\n",
       "    </tr>\n",
       "    <tr>\n",
       "      <th>145</th>\n",
       "      <td>1.870503</td>\n",
       "      <td>0.386966</td>\n",
       "      <td>0.256274</td>\n",
       "      <td>-0.389257</td>\n",
       "    </tr>\n",
       "    <tr>\n",
       "      <th>146</th>\n",
       "      <td>1.564580</td>\n",
       "      <td>-0.896687</td>\n",
       "      <td>-0.026371</td>\n",
       "      <td>-0.220192</td>\n",
       "    </tr>\n",
       "    <tr>\n",
       "      <th>147</th>\n",
       "      <td>1.521170</td>\n",
       "      <td>0.269069</td>\n",
       "      <td>0.180178</td>\n",
       "      <td>-0.119171</td>\n",
       "    </tr>\n",
       "    <tr>\n",
       "      <th>148</th>\n",
       "      <td>1.372788</td>\n",
       "      <td>1.011254</td>\n",
       "      <td>0.933395</td>\n",
       "      <td>-0.026129</td>\n",
       "    </tr>\n",
       "    <tr>\n",
       "      <th>149</th>\n",
       "      <td>0.960656</td>\n",
       "      <td>-0.024332</td>\n",
       "      <td>0.528249</td>\n",
       "      <td>0.163078</td>\n",
       "    </tr>\n",
       "  </tbody>\n",
       "</table>\n",
       "<p>150 rows × 4 columns</p>\n",
       "</div>"
      ],
      "text/plain": [
       "        pca_0     pca_1     pca_2     pca_3\n",
       "0   -2.264703  0.480027 -0.127706 -0.024168\n",
       "1   -2.080961 -0.674134 -0.234609 -0.103007\n",
       "2   -2.364229 -0.341908  0.044201 -0.028377\n",
       "3   -2.299384 -0.597395  0.091290  0.065956\n",
       "4   -2.389842  0.646835  0.015738  0.035923\n",
       "..        ...       ...       ...       ...\n",
       "145  1.870503  0.386966  0.256274 -0.389257\n",
       "146  1.564580 -0.896687 -0.026371 -0.220192\n",
       "147  1.521170  0.269069  0.180178 -0.119171\n",
       "148  1.372788  1.011254  0.933395 -0.026129\n",
       "149  0.960656 -0.024332  0.528249  0.163078\n",
       "\n",
       "[150 rows x 4 columns]"
      ]
     },
     "execution_count": 21,
     "metadata": {},
     "output_type": "execute_result"
    }
   ],
   "source": [
    "X"
   ]
  },
  {
   "cell_type": "code",
   "execution_count": 22,
   "id": "obvious-header",
   "metadata": {},
   "outputs": [
    {
     "data": {
      "text/plain": [
       "array([[ 0.52106591, -0.26934744,  0.5804131 ,  0.56485654],\n",
       "       [ 0.37741762,  0.92329566,  0.02449161,  0.06694199],\n",
       "       [-0.71956635,  0.24438178,  0.14212637,  0.63427274],\n",
       "       [-0.26128628,  0.12350962,  0.80144925, -0.52359713]])"
      ]
     },
     "execution_count": 22,
     "metadata": {},
     "output_type": "execute_result"
    }
   ],
   "source": [
    "pca.components_"
   ]
  },
  {
   "cell_type": "code",
   "execution_count": 23,
   "id": "painted-usage",
   "metadata": {},
   "outputs": [
    {
     "data": {
      "text/plain": [
       "array([0.72962445, 0.22850762, 0.03668922, 0.00517871])"
      ]
     },
     "execution_count": 23,
     "metadata": {},
     "output_type": "execute_result"
    }
   ],
   "source": [
    "pca.explained_variance_ratio_"
   ]
  },
  {
   "cell_type": "code",
   "execution_count": 24,
   "id": "parental-agenda",
   "metadata": {},
   "outputs": [],
   "source": [
    "from matplotlib import pyplot as plt"
   ]
  },
  {
   "cell_type": "code",
   "execution_count": 25,
   "id": "caring-filling",
   "metadata": {},
   "outputs": [
    {
     "data": {
      "text/plain": [
       "<BarContainer object of 4 artists>"
      ]
     },
     "execution_count": 25,
     "metadata": {},
     "output_type": "execute_result"
    },
    {
     "data": {
      "image/png": "[encoded data removed]",
      "text/plain": [
       "<Figure size 432x288 with 1 Axes>"
      ]
     },
     "metadata": {
      "needs_background": "light"
     },
     "output_type": "display_data"
    }
   ],
   "source": [
    "plt.bar(pca_names, pca.explained_variance_ratio_)"
   ]
  },
  {
   "cell_type": "code",
   "execution_count": 26,
   "id": "black-living",
   "metadata": {},
   "outputs": [],
   "source": [
    "import numpy as np"
   ]
  },
  {
   "cell_type": "code",
   "execution_count": 28,
   "id": "contrary-reminder",
   "metadata": {},
   "outputs": [
    {
     "data": {
      "text/plain": [
       "[<matplotlib.lines.Line2D at 0x11a445d4dc0>]"
      ]
     },
     "execution_count": 28,
     "metadata": {},
     "output_type": "execute_result"
    },
    {
     "data": {
      "image/png": "[encoded data removed]",
      "text/plain": [
       "<Figure size 432x288 with 1 Axes>"
      ]
     },
     "metadata": {
      "needs_background": "light"
     },
     "output_type": "display_data"
    }
   ],
   "source": [
    "plt.plot(pca_names, np.cumsum(pca.explained_variance_ratio_), marker='o')"
   ]
  },
  {
   "cell_type": "code",
   "execution_count": 29,
   "id": "based-semiconductor",
   "metadata": {},
   "outputs": [
    {
     "data": {
      "text/plain": [
       "0         setosa\n",
       "1         setosa\n",
       "2         setosa\n",
       "3         setosa\n",
       "4         setosa\n",
       "         ...    \n",
       "145    virginica\n",
       "146    virginica\n",
       "147    virginica\n",
       "148    virginica\n",
       "149    virginica\n",
       "Name: Species, Length: 150, dtype: object"
      ]
     },
     "execution_count": 29,
     "metadata": {},
     "output_type": "execute_result"
    }
   ],
   "source": [
    "y"
   ]
  },
  {
   "cell_type": "code",
   "execution_count": 30,
   "id": "median-syntax",
   "metadata": {},
   "outputs": [],
   "source": [
    "class_names = y.unique()"
   ]
  },
  {
   "cell_type": "code",
   "execution_count": 31,
   "id": "elementary-blues",
   "metadata": {},
   "outputs": [
    {
     "data": {
      "text/plain": [
       "array(['setosa', 'versicolor', 'virginica'], dtype=object)"
      ]
     },
     "execution_count": 31,
     "metadata": {},
     "output_type": "execute_result"
    }
   ],
   "source": [
    "class_names"
   ]
  },
  {
   "cell_type": "code",
   "execution_count": 34,
   "id": "graduate-console",
   "metadata": {},
   "outputs": [],
   "source": [
    "colors = ['red', 'green', 'blue']"
   ]
  },
  {
   "cell_type": "code",
   "execution_count": 37,
   "id": "congressional-grass",
   "metadata": {},
   "outputs": [
    {
     "data": {
      "text/plain": [
       "Int64Index([ 0,  1,  2,  3,  4,  5,  6,  7,  8,  9, 10, 11, 12, 13, 14, 15, 16,\n",
       "            17, 18, 19, 20, 21, 22, 23, 24, 25, 26, 27, 28, 29, 30, 31, 32, 33,\n",
       "            34, 35, 36, 37, 38, 39, 40, 41, 42, 43, 44, 45, 46, 47, 48, 49],\n",
       "           dtype='int64')"
      ]
     },
     "execution_count": 37,
     "metadata": {},
     "output_type": "execute_result"
    }
   ],
   "source": [
    "y[y == 'setosa'].index"
   ]
  },
  {
   "cell_type": "code",
   "execution_count": 40,
   "id": "communist-radical",
   "metadata": {},
   "outputs": [
    {
     "data": {
      "text/plain": [
       "<matplotlib.legend.Legend at 0x11a454fe6d0>"
      ]
     },
     "execution_count": 40,
     "metadata": {},
     "output_type": "execute_result"
    },
    {
     "data": {
      "image/png": "[encoded data removed]",
      "text/plain": [
       "<Figure size 432x288 with 1 Axes>"
      ]
     },
     "metadata": {
      "needs_background": "light"
     },
     "output_type": "display_data"
    }
   ],
   "source": [
    "varietyfor i, class_name in enumerate(class_names):\n",
    "    class_instances = X.iloc[y[y == class_name].index]\n",
    "    \n",
    "    plt.scatter(class_instances['pca_0'], class_instances['pca_1'], color=colors[i], label=class_name)\n",
    "    \n",
    "plt.legend(loc='best')"
   ]
  },
  {
   "cell_type": "code",
   "execution_count": null,
   "id": "known-helen",
   "metadata": {},
   "outputs": [],
   "source": []
  }
 ],
 "metadata": {
  "kernelspec": {
   "display_name": "Python 3",
   "language": "python",
   "name": "python3"
  },
  "language_info": {
   "codemirror_mode": {
    "name": "ipython",
    "version": 3
   },
   "file_extension": ".py",
   "mimetype": "text/x-python",
   "name": "python",
   "nbconvert_exporter": "python",
   "pygments_lexer": "ipython3",
   "version": "3.9.6"
  }
 },
 "nbformat": 4,
 "nbformat_minor": 5
}
