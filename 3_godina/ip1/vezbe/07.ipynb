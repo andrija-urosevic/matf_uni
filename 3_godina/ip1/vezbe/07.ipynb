{
 "cells": [
  {
   "cell_type": "markdown",
   "id": "8364f9ad",
   "metadata": {},
   "source": [
    "# Naivni Bajesov Klasifikator"
   ]
  },
  {
   "cell_type": "markdown",
   "id": "31089917",
   "metadata": {},
   "source": [
    "## Uslovna verovatnoca i Bajesova teorema\n",
    "\n",
    "Uslovna verovatnoca promenljive $X$, pri uslovu $Y$, data je kao:\n",
    "$$P(X|Y) = \\frac{P(X, Y)}{P(Y)}$$\n",
    "\n",
    "Formula mnozenja:\n",
    "$$P(X|Y)P(Y) = P(X,Y) = P(X)P(Y|X)$$\n",
    "\n",
    "Bajesova teorema:\n",
    "$$P(X|Y) = \\frac{P(X)P(Y|X)}{P(Y)}$$\n",
    "\n",
    "Kako vazi\n",
    "$$P(\\mathbf{X}|Y) = \\frac{P(\\mathbf{X}|Y)P(Y)}{P(\\mathbf{X})}$$\n",
    "pod pretpostavkom da su $\\mathbf{X}=(X_1, X_2, \\ldots, X_n)$ uslovno nezavisne, tj. vazi:\n",
    "$$P(\\mathbf{X}|Y) = \\prod_{i} P(X_i|Y)$$\n",
    "Dobijamo naivni bajesov klasifikator:\n",
    "$$argmax_Y P(Y)\\prod_{i} P(X_i|Y)$$"
   ]
  },
  {
   "cell_type": "markdown",
   "id": "9630838a",
   "metadata": {},
   "source": [
    "## Predprocesiranje podataka"
   ]
  },
  {
   "cell_type": "code",
   "execution_count": null,
   "id": "4da80b4d",
   "metadata": {},
   "outputs": [],
   "source": [
    "t"
   ]
  }
 ],
 "metadata": {
  "kernelspec": {
   "display_name": "Python 3",
   "language": "python",
   "name": "python3"
  },
  "language_info": {
   "codemirror_mode": {
    "name": "ipython",
    "version": 3
   },
   "file_extension": ".py",
   "mimetype": "text/x-python",
   "name": "python",
   "nbconvert_exporter": "python",
   "pygments_lexer": "ipython3",
   "version": "3.9.6"
  }
 },
 "nbformat": 4,
 "nbformat_minor": 5
}
