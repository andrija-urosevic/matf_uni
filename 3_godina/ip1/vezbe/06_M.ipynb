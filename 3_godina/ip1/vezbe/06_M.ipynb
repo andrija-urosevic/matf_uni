{
 "cells": [
  {
   "cell_type": "markdown",
   "id": "90f1952b",
   "metadata": {},
   "source": [
    "# Naivni Bajasov Klasifikator"
   ]
  },
  {
   "cell_type": "markdown",
   "id": "ed83ac5f",
   "metadata": {},
   "source": [
    "## Ucitavanje paketa"
   ]
  },
  {
   "cell_type": "code",
   "execution_count": 2,
   "id": "71ac6bc2",
   "metadata": {},
   "outputs": [],
   "source": [
    "import pandas as pd\n",
    "import numpy as np\n",
    "\n",
    "from sklearn.naive_bayes import MultinomialNB\n",
    "from sklearn.feature_extraction.text import CountVectorizer, TfidfVectorizer"
   ]
  },
  {
   "cell_type": "markdown",
   "id": "4b0f54d9",
   "metadata": {},
   "source": [
    "## Priprema podataka"
   ]
  },
  {
   "cell_type": "code",
   "execution_count": 19,
   "id": "e04845b1",
   "metadata": {},
   "outputs": [
    {
     "data": {
      "text/html": [
       "<div>\n",
       "<style scoped>\n",
       "    .dataframe tbody tr th:only-of-type {\n",
       "        vertical-align: middle;\n",
       "    }\n",
       "\n",
       "    .dataframe tbody tr th {\n",
       "        vertical-align: top;\n",
       "    }\n",
       "\n",
       "    .dataframe thead th {\n",
       "        text-align: right;\n",
       "    }\n",
       "</style>\n",
       "<table border=\"1\" class=\"dataframe\">\n",
       "  <thead>\n",
       "    <tr style=\"text-align: right;\">\n",
       "      <th></th>\n",
       "      <th>beijing</th>\n",
       "      <th>chinese</th>\n",
       "      <th>japan</th>\n",
       "      <th>macao</th>\n",
       "      <th>shanghai</th>\n",
       "      <th>tokyo</th>\n",
       "    </tr>\n",
       "  </thead>\n",
       "  <tbody>\n",
       "    <tr>\n",
       "      <th>Chinese Beijing Chinese</th>\n",
       "      <td>1</td>\n",
       "      <td>2</td>\n",
       "      <td>0</td>\n",
       "      <td>0</td>\n",
       "      <td>0</td>\n",
       "      <td>0</td>\n",
       "    </tr>\n",
       "    <tr>\n",
       "      <th>Chinese Chinese Shanghai</th>\n",
       "      <td>0</td>\n",
       "      <td>2</td>\n",
       "      <td>0</td>\n",
       "      <td>0</td>\n",
       "      <td>1</td>\n",
       "      <td>0</td>\n",
       "    </tr>\n",
       "    <tr>\n",
       "      <th>Chinese Macao</th>\n",
       "      <td>0</td>\n",
       "      <td>1</td>\n",
       "      <td>0</td>\n",
       "      <td>1</td>\n",
       "      <td>0</td>\n",
       "      <td>0</td>\n",
       "    </tr>\n",
       "    <tr>\n",
       "      <th>Tokyo Japan Chinese</th>\n",
       "      <td>0</td>\n",
       "      <td>1</td>\n",
       "      <td>1</td>\n",
       "      <td>0</td>\n",
       "      <td>0</td>\n",
       "      <td>1</td>\n",
       "    </tr>\n",
       "  </tbody>\n",
       "</table>\n",
       "</div>"
      ],
      "text/plain": [
       "                          beijing  chinese  japan  macao  shanghai  tokyo\n",
       "Chinese Beijing Chinese         1        2      0      0         0      0\n",
       "Chinese Chinese Shanghai        0        2      0      0         1      0\n",
       "Chinese Macao                   0        1      0      1         0      0\n",
       "Tokyo Japan Chinese             0        1      1      0         0      1"
      ]
     },
     "execution_count": 19,
     "metadata": {},
     "output_type": "execute_result"
    }
   ],
   "source": [
    "corpus = [\n",
    "    'Chinese Beijing Chinese',\n",
    "    'Chinese Chinese Shanghai',\n",
    "    'Chinese Macao',\n",
    "    'Tokyo Japan Chinese'\n",
    "]\n",
    "\n",
    "classes = ['yes', 'yes', 'yes', 'no']\n",
    "\n",
    "target_document = 'Chinese Chinese Chinese Tokyo Japan'\n",
    "\n",
    "vectorizer = CountVectorizer()\n",
    "X_train = vectorizer.fit_transform(corpus)\n",
    "X_test = vectorizer.transform([target_document])\n",
    "\n",
    "feature_names = vectorizer.get_feature_names()\n",
    "\n",
    "pd.DataFrame(X_train.toarray(), index=corpus, columns=feature_names)"
   ]
  },
  {
   "cell_type": "markdown",
   "id": "97511e72",
   "metadata": {},
   "source": [
    "## Treniranje i Evaluacija Modela"
   ]
  },
  {
   "cell_type": "code",
   "execution_count": 17,
   "id": "b19873ef",
   "metadata": {},
   "outputs": [
    {
     "name": "stdout",
     "output_type": "stream",
     "text": [
      "[1. 3.]\n"
     ]
    },
    {
     "data": {
      "text/html": [
       "<div>\n",
       "<style scoped>\n",
       "    .dataframe tbody tr th:only-of-type {\n",
       "        vertical-align: middle;\n",
       "    }\n",
       "\n",
       "    .dataframe tbody tr th {\n",
       "        vertical-align: top;\n",
       "    }\n",
       "\n",
       "    .dataframe thead th {\n",
       "        text-align: right;\n",
       "    }\n",
       "</style>\n",
       "<table border=\"1\" class=\"dataframe\">\n",
       "  <thead>\n",
       "    <tr style=\"text-align: right;\">\n",
       "      <th></th>\n",
       "      <th>beijing</th>\n",
       "      <th>chinese</th>\n",
       "      <th>japan</th>\n",
       "      <th>macao</th>\n",
       "      <th>shanghai</th>\n",
       "      <th>tokyo</th>\n",
       "    </tr>\n",
       "  </thead>\n",
       "  <tbody>\n",
       "    <tr>\n",
       "      <th>no</th>\n",
       "      <td>0.0</td>\n",
       "      <td>1.0</td>\n",
       "      <td>1.0</td>\n",
       "      <td>0.0</td>\n",
       "      <td>0.0</td>\n",
       "      <td>1.0</td>\n",
       "    </tr>\n",
       "    <tr>\n",
       "      <th>yes</th>\n",
       "      <td>1.0</td>\n",
       "      <td>5.0</td>\n",
       "      <td>0.0</td>\n",
       "      <td>1.0</td>\n",
       "      <td>1.0</td>\n",
       "      <td>0.0</td>\n",
       "    </tr>\n",
       "  </tbody>\n",
       "</table>\n",
       "</div>"
      ],
      "text/plain": [
       "     beijing  chinese  japan  macao  shanghai  tokyo\n",
       "no       0.0      1.0    1.0    0.0       0.0    1.0\n",
       "yes      1.0      5.0    0.0    1.0       1.0    0.0"
      ]
     },
     "execution_count": 17,
     "metadata": {},
     "output_type": "execute_result"
    }
   ],
   "source": [
    "clf = MultinomialNB()\n",
    "clf.fit(X_train, classes)\n",
    "\n",
    "pd.DataFrame(clf.feature_count_, index=clf.classes_, columns=feature_names)"
   ]
  },
  {
   "cell_type": "code",
   "execution_count": 20,
   "id": "c5308663",
   "metadata": {},
   "outputs": [
    {
     "name": "stdout",
     "output_type": "stream",
     "text": [
      "['yes']\n"
     ]
    }
   ],
   "source": [
    "print(clf.predict(X_test))"
   ]
  },
  {
   "cell_type": "markdown",
   "id": "7118d830",
   "metadata": {},
   "source": [
    "# Ebrat skup podataka"
   ]
  },
  {
   "cell_type": "markdown",
   "id": "ffdf987e",
   "metadata": {},
   "source": [
    "## Ucitavanje potrebnih paketa"
   ]
  },
  {
   "cell_type": "code",
   "execution_count": 46,
   "id": "000499ab",
   "metadata": {},
   "outputs": [],
   "source": [
    "import numpy as np\n",
    "import pandas as pd\n",
    "\n",
    "from sklearn.naive_bayes import MultinomialNB\n",
    "from sklearn.tree import DecisionTreeClassifier\n",
    "from sklearn.neighbors import KNeighborsClassifier\n",
    "\n",
    "from sklearn.feature_extraction import DictVectorizer\n",
    "from sklearn.model_selection import train_test_split, GridSearchCV\n",
    "from sklearn.metrics import confusion_matrix, classification_report, accuracy_score\n",
    " \n",
    "import os"
   ]
  },
  {
   "cell_type": "markdown",
   "id": "803dae5d",
   "metadata": {},
   "source": [
    "## Preprocesiranje podataka"
   ]
  },
  {
   "cell_type": "code",
   "execution_count": 42,
   "id": "39d79d41",
   "metadata": {},
   "outputs": [
    {
     "name": "stdout",
     "output_type": "stream",
     "text": [
      "(2339, 36830) (1153, 36830)\n",
      "2339 1153\n"
     ]
    }
   ],
   "source": [
    "corpus = []\n",
    "classes = []\n",
    "\n",
    "for class_name in os.listdir('Data/VektoriEbart-5/Trening/'):\n",
    "    dir_path = os.path.join('Data/VektoriEbart-5/Trening/', class_name)\n",
    "    for file_name in os.listdir(dir_path):\n",
    "        with open(os.path.join(dir_path, file_name)) as f:\n",
    "            file_words = {}\n",
    "            for line in f.readlines():\n",
    "                [word, count] = line.split()\n",
    "                file_words[word] = int(count)\n",
    "        classes.append(class_name)\n",
    "        corpus.append(file_words)\n",
    "        \n",
    "vectorizer = DictVectorizer()\n",
    "X = vectorizer.fit_transform(corpus)\n",
    "feature_names = vectorizer.get_feature_names()\n",
    "\n",
    "df = pd.DataFrame(X.toarray(), columns=feature_names)\n",
    "\n",
    "X_train, X_test, y_train, y_test = train_test_split(df, classes, test_size=0.33, stratify=classes)\n",
    "print(X_train.shape, X_test.shape)\n",
    "print(len(y_train), len(y_test))"
   ]
  },
  {
   "cell_type": "markdown",
   "id": "938d3d12",
   "metadata": {},
   "source": [
    "## Treniranje i Evaluacija Modela"
   ]
  },
  {
   "cell_type": "code",
   "execution_count": 58,
   "id": "d222b807",
   "metadata": {},
   "outputs": [],
   "source": [
    "def train_and_evaluate(clf, X_train, X_test, y_train, y_test, cv=False):\n",
    "    clf.fit(X_train, y_train)\n",
    "    \n",
    "    if cv:\n",
    "        print(f'Najbolji parametri: {clf.best_params_}')\n",
    "        \n",
    "    print(f'Tacnost modela:\\n{accuracy_score(y_train, clf_mnb.predict(X_train))} (Train)\\n{accuracy_score(y_test, clf_mnb.predict(X_test))} (Test)\\n')\n",
    "    print(f'Matrica konfuzije:\\n{confusion_matrix(y_train, clf_mnb.predict(X_train))} (Train)\\n{confusion_matrix(y_test, clf_mnb.predict(X_test))} (Test)\\n')\n",
    "    print(f'Izvestaj klasifikacije:\\n{classification_report(y_train, clf_mnb.predict(X_train))} (Train)\\n{classification_report(y_test, clf_mnb.predict(X_test))} (Test)\\n')\n"
   ]
  },
  {
   "cell_type": "markdown",
   "id": "5a57bf53",
   "metadata": {},
   "source": [
    "### Naivni Bajasov Klasifikator"
   ]
  },
  {
   "cell_type": "code",
   "execution_count": 59,
   "id": "2ba38d7d",
   "metadata": {},
   "outputs": [
    {
     "name": "stdout",
     "output_type": "stream",
     "text": [
      "Multinomijalni Naivni Bajasov Klasifikator!\n",
      "\n",
      "Tacnost modela:\n",
      "0.9478409576742197 (Train)\n",
      "0.8907198612315698 (Test)\n",
      "\n",
      "Matrica konfuzije:\n",
      "[[210   1   2  10   0]\n",
      " [ 10 341   2  62   0]\n",
      " [  0   2 417   1   0]\n",
      " [  8  12   4 598   4]\n",
      " [  1   2   0   1 651]] (Train)\n",
      "[[ 94   6   1   9   0]\n",
      " [  2 155   4  42   2]\n",
      " [  3   2 191   8   3]\n",
      " [  2  24   3 278   2]\n",
      " [  1   5   2   5 309]] (Test)\n",
      "\n",
      "Izvestaj klasifikacije:\n",
      "                 precision    recall  f1-score   support\n",
      "\n",
      "      Ekonomija       0.92      0.94      0.93       223\n",
      "HronikaKriminal       0.95      0.82      0.88       415\n",
      "  KulturaZabava       0.98      0.99      0.99       420\n",
      "       Politika       0.89      0.96      0.92       626\n",
      "          Sport       0.99      0.99      0.99       655\n",
      "\n",
      "       accuracy                           0.95      2339\n",
      "      macro avg       0.95      0.94      0.94      2339\n",
      "   weighted avg       0.95      0.95      0.95      2339\n",
      " (Train)\n",
      "                 precision    recall  f1-score   support\n",
      "\n",
      "      Ekonomija       0.92      0.85      0.89       110\n",
      "HronikaKriminal       0.81      0.76      0.78       205\n",
      "  KulturaZabava       0.95      0.92      0.94       207\n",
      "       Politika       0.81      0.90      0.85       309\n",
      "          Sport       0.98      0.96      0.97       322\n",
      "\n",
      "       accuracy                           0.89      1153\n",
      "      macro avg       0.89      0.88      0.89      1153\n",
      "   weighted avg       0.89      0.89      0.89      1153\n",
      " (Test)\n",
      "\n"
     ]
    }
   ],
   "source": [
    "print('Multinomijalni Naivni Bajasov Klasifikator!\\n')\n",
    "\n",
    "clf_mnb = MultinomialNB()\n",
    "train_and_evaluate(clf_mnb, X_train, X_test, y_train, y_test)"
   ]
  },
  {
   "cell_type": "markdown",
   "id": "0fd46a34",
   "metadata": {},
   "source": [
    "### K-Najblizih Suseda"
   ]
  },
  {
   "cell_type": "code",
   "execution_count": 62,
   "id": "30ff92ce",
   "metadata": {},
   "outputs": [
    {
     "name": "stdout",
     "output_type": "stream",
     "text": [
      "K-Najblizih Suseda!\n",
      "Najbolji parametri: {'n_neighbors': 7, 'p': 2, 'weights': 'distance'}\n",
      "Tacnost modela:\n",
      "0.9478409576742197 (Train)\n",
      "0.8907198612315698 (Test)\n",
      "\n",
      "Matrica konfuzije:\n",
      "[[210   1   2  10   0]\n",
      " [ 10 341   2  62   0]\n",
      " [  0   2 417   1   0]\n",
      " [  8  12   4 598   4]\n",
      " [  1   2   0   1 651]] (Train)\n",
      "[[ 94   6   1   9   0]\n",
      " [  2 155   4  42   2]\n",
      " [  3   2 191   8   3]\n",
      " [  2  24   3 278   2]\n",
      " [  1   5   2   5 309]] (Test)\n",
      "\n",
      "Izvestaj klasifikacije:\n",
      "                 precision    recall  f1-score   support\n",
      "\n",
      "      Ekonomija       0.92      0.94      0.93       223\n",
      "HronikaKriminal       0.95      0.82      0.88       415\n",
      "  KulturaZabava       0.98      0.99      0.99       420\n",
      "       Politika       0.89      0.96      0.92       626\n",
      "          Sport       0.99      0.99      0.99       655\n",
      "\n",
      "       accuracy                           0.95      2339\n",
      "      macro avg       0.95      0.94      0.94      2339\n",
      "   weighted avg       0.95      0.95      0.95      2339\n",
      " (Train)\n",
      "                 precision    recall  f1-score   support\n",
      "\n",
      "      Ekonomija       0.92      0.85      0.89       110\n",
      "HronikaKriminal       0.81      0.76      0.78       205\n",
      "  KulturaZabava       0.95      0.92      0.94       207\n",
      "       Politika       0.81      0.90      0.85       309\n",
      "          Sport       0.98      0.96      0.97       322\n",
      "\n",
      "       accuracy                           0.89      1153\n",
      "      macro avg       0.89      0.88      0.89      1153\n",
      "   weighted avg       0.89      0.89      0.89      1153\n",
      " (Test)\n",
      "\n"
     ]
    }
   ],
   "source": [
    "print('K-Najblizih Suseda!')\n",
    "\n",
    "params_knn = {\n",
    "    'n_neighbors': [3, 5, 7],\n",
    "    'p': [2],\n",
    "    'weights': ['uniform', 'distance']\n",
    "}\n",
    "\n",
    "clf_knn = GridSearchCV(KNeighborsClassifier(), param_grid=params_knn, cv=5)\n",
    "train_and_evaluate(clf_knn, X_train, X_test, y_train, y_test, cv=True)"
   ]
  },
  {
   "cell_type": "markdown",
   "id": "c4915fdf",
   "metadata": {},
   "source": [
    "### Drveta Odlucivanja"
   ]
  },
  {
   "cell_type": "code",
   "execution_count": 61,
   "id": "b99e97cc",
   "metadata": {},
   "outputs": [
    {
     "name": "stdout",
     "output_type": "stream",
     "text": [
      "Drveta Odlucivanja!\n",
      "Najbolji parametri: {'criterion': 'gini', 'max_depth': 25}\n",
      "Tacnost modela:\n",
      "0.9478409576742197 (Train)\n",
      "0.8907198612315698 (Test)\n",
      "\n",
      "Matrica konfuzije:\n",
      "[[210   1   2  10   0]\n",
      " [ 10 341   2  62   0]\n",
      " [  0   2 417   1   0]\n",
      " [  8  12   4 598   4]\n",
      " [  1   2   0   1 651]] (Train)\n",
      "[[ 94   6   1   9   0]\n",
      " [  2 155   4  42   2]\n",
      " [  3   2 191   8   3]\n",
      " [  2  24   3 278   2]\n",
      " [  1   5   2   5 309]] (Test)\n",
      "\n",
      "Izvestaj klasifikacije:\n",
      "                 precision    recall  f1-score   support\n",
      "\n",
      "      Ekonomija       0.92      0.94      0.93       223\n",
      "HronikaKriminal       0.95      0.82      0.88       415\n",
      "  KulturaZabava       0.98      0.99      0.99       420\n",
      "       Politika       0.89      0.96      0.92       626\n",
      "          Sport       0.99      0.99      0.99       655\n",
      "\n",
      "       accuracy                           0.95      2339\n",
      "      macro avg       0.95      0.94      0.94      2339\n",
      "   weighted avg       0.95      0.95      0.95      2339\n",
      " (Train)\n",
      "                 precision    recall  f1-score   support\n",
      "\n",
      "      Ekonomija       0.92      0.85      0.89       110\n",
      "HronikaKriminal       0.81      0.76      0.78       205\n",
      "  KulturaZabava       0.95      0.92      0.94       207\n",
      "       Politika       0.81      0.90      0.85       309\n",
      "          Sport       0.98      0.96      0.97       322\n",
      "\n",
      "       accuracy                           0.89      1153\n",
      "      macro avg       0.89      0.88      0.89      1153\n",
      "   weighted avg       0.89      0.89      0.89      1153\n",
      " (Test)\n",
      "\n"
     ]
    }
   ],
   "source": [
    "print('Drveta Odlucivanja!')\n",
    "\n",
    "params_dt = {\n",
    "    'criterion': ['gini', 'entropy'],\n",
    "    'max_depth': [15, 25, 5]\n",
    "}\n",
    "\n",
    "clf_dt = GridSearchCV(DecisionTreeClassifier(), param_grid=params_dt, cv=5)\n",
    "train_and_evaluate(clf_dt, X_train, X_test, y_train, y_test, cv=True)"
   ]
  },
  {
   "cell_type": "markdown",
   "id": "8d68cef7",
   "metadata": {},
   "source": [
    "# Iris skup podataka"
   ]
  },
  {
   "cell_type": "markdown",
   "id": "bfab853d",
   "metadata": {},
   "source": [
    "## Ucitavanje paketa"
   ]
  },
  {
   "cell_type": "code",
   "execution_count": 63,
   "id": "9365ef3f",
   "metadata": {},
   "outputs": [],
   "source": [
    "import numpy as np\n",
    "import pandas as pd\n",
    "\n",
    "from sklearn.naive_bayes import GaussianNB\n",
    "\n",
    "from sklearn.model_selection import train_test_split\n",
    "from sklearn.metrics import accuracy_score, confusion_matrix, classification_report"
   ]
  },
  {
   "cell_type": "markdown",
   "id": "810dbb10",
   "metadata": {},
   "source": [
    "## Preprocesiranje podataka"
   ]
  },
  {
   "cell_type": "code",
   "execution_count": 71,
   "id": "ac5b15d7",
   "metadata": {},
   "outputs": [
    {
     "name": "stdout",
     "output_type": "stream",
     "text": [
      "(100, 4) (50, 4)\n",
      "(100,) (50,)\n"
     ]
    }
   ],
   "source": [
    "df = pd.read_csv('Data/iris.csv')\n",
    "\n",
    "feature_names = df.columns[:4].tolist()\n",
    "target_name = df.columns[4]\n",
    "\n",
    "X = df[feature_names]\n",
    "y = df[target_name]\n",
    "\n",
    "X_train, X_test, y_train, y_test = train_test_split(X, y, test_size=0.33, stratify=y)\n",
    "print(X_train.shape, X_test.shape)\n",
    "print(y_train.shape, y_test.shape)"
   ]
  },
  {
   "cell_type": "markdown",
   "id": "c8c98945",
   "metadata": {},
   "source": [
    "## Treniranje i Evaluacija Modela"
   ]
  },
  {
   "cell_type": "code",
   "execution_count": 73,
   "id": "f3648f7e",
   "metadata": {},
   "outputs": [
    {
     "name": "stdout",
     "output_type": "stream",
     "text": [
      "Tacnost: 0.96\n",
      "Matrica konfuzije:\n",
      " [[17  0  0]\n",
      " [ 0 16  0]\n",
      " [ 0  2 15]]\n",
      "Izvestaj klasifikacije:\n",
      "               precision    recall  f1-score   support\n",
      "\n",
      "      Setosa       1.00      1.00      1.00        17\n",
      "  Versicolor       0.89      1.00      0.94        16\n",
      "   Virginica       1.00      0.88      0.94        17\n",
      "\n",
      "    accuracy                           0.96        50\n",
      "   macro avg       0.96      0.96      0.96        50\n",
      "weighted avg       0.96      0.96      0.96        50\n",
      "\n"
     ]
    }
   ],
   "source": [
    "clf = GaussianNB()\n",
    "clf.fit(X_train, y_train)\n",
    "\n",
    "y_pred = clf.predict(X_test)\n",
    "\n",
    "print(f'Tacnost: {accuracy_score(y_test, y_pred)}')\n",
    "print(f'Matrica konfuzije:\\n {confusion_matrix(y_test, y_pred)}')\n",
    "print(f'Izvestaj klasifikacije:\\n {classification_report(y_test, y_pred)}')"
   ]
  },
  {
   "cell_type": "code",
   "execution_count": null,
   "id": "f744ed40",
   "metadata": {},
   "outputs": [],
   "source": []
  }
 ],
 "metadata": {
  "kernelspec": {
   "display_name": "Python 3",
   "language": "python",
   "name": "python3"
  },
  "language_info": {
   "codemirror_mode": {
    "name": "ipython",
    "version": 3
   },
   "file_extension": ".py",
   "mimetype": "text/x-python",
   "name": "python",
   "nbconvert_exporter": "python",
   "pygments_lexer": "ipython3",
   "version": "3.9.6"
  }
 },
 "nbformat": 4,
 "nbformat_minor": 5
}
