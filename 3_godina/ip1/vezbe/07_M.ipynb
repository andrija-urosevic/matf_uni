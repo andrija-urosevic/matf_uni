{
 "cells": [
  {
   "cell_type": "markdown",
   "id": "b9d3828e",
   "metadata": {},
   "source": [
    "# PCA\n",
    "\n",
    "## PCA nad Skupom Iris\n",
    "\n",
    "### Ucitavanje paketa"
   ]
  },
  {
   "cell_type": "code",
   "execution_count": 1,
   "id": "0d901db8",
   "metadata": {},
   "outputs": [],
   "source": [
    "import pandas as pd\n",
    "import numpy as np\n",
    "import matplotlib.pyplot as plt\n",
    "\n",
    "from sklearn.decomposition import PCA\n",
    "from sklearn.preprocessing import StandardScaler"
   ]
  },
  {
   "cell_type": "markdown",
   "id": "f52059dc",
   "metadata": {},
   "source": [
    "### Preprocesiranje podataka"
   ]
  },
  {
   "cell_type": "code",
   "execution_count": 6,
   "id": "e92ff123",
   "metadata": {},
   "outputs": [
    {
     "data": {
      "text/html": [
       "<div>\n",
       "<style scoped>\n",
       "    .dataframe tbody tr th:only-of-type {\n",
       "        vertical-align: middle;\n",
       "    }\n",
       "\n",
       "    .dataframe tbody tr th {\n",
       "        vertical-align: top;\n",
       "    }\n",
       "\n",
       "    .dataframe thead th {\n",
       "        text-align: right;\n",
       "    }\n",
       "</style>\n",
       "<table border=\"1\" class=\"dataframe\">\n",
       "  <thead>\n",
       "    <tr style=\"text-align: right;\">\n",
       "      <th></th>\n",
       "      <th>sepal.length</th>\n",
       "      <th>sepal.width</th>\n",
       "      <th>petal.length</th>\n",
       "      <th>petal.width</th>\n",
       "    </tr>\n",
       "  </thead>\n",
       "  <tbody>\n",
       "    <tr>\n",
       "      <th>0</th>\n",
       "      <td>-0.900681</td>\n",
       "      <td>1.019004</td>\n",
       "      <td>-1.340227</td>\n",
       "      <td>-1.315444</td>\n",
       "    </tr>\n",
       "    <tr>\n",
       "      <th>1</th>\n",
       "      <td>-1.143017</td>\n",
       "      <td>-0.131979</td>\n",
       "      <td>-1.340227</td>\n",
       "      <td>-1.315444</td>\n",
       "    </tr>\n",
       "    <tr>\n",
       "      <th>2</th>\n",
       "      <td>-1.385353</td>\n",
       "      <td>0.328414</td>\n",
       "      <td>-1.397064</td>\n",
       "      <td>-1.315444</td>\n",
       "    </tr>\n",
       "    <tr>\n",
       "      <th>3</th>\n",
       "      <td>-1.506521</td>\n",
       "      <td>0.098217</td>\n",
       "      <td>-1.283389</td>\n",
       "      <td>-1.315444</td>\n",
       "    </tr>\n",
       "    <tr>\n",
       "      <th>4</th>\n",
       "      <td>-1.021849</td>\n",
       "      <td>1.249201</td>\n",
       "      <td>-1.340227</td>\n",
       "      <td>-1.315444</td>\n",
       "    </tr>\n",
       "  </tbody>\n",
       "</table>\n",
       "</div>"
      ],
      "text/plain": [
       "   sepal.length  sepal.width  petal.length  petal.width\n",
       "0     -0.900681     1.019004     -1.340227    -1.315444\n",
       "1     -1.143017    -0.131979     -1.340227    -1.315444\n",
       "2     -1.385353     0.328414     -1.397064    -1.315444\n",
       "3     -1.506521     0.098217     -1.283389    -1.315444\n",
       "4     -1.021849     1.249201     -1.340227    -1.315444"
      ]
     },
     "execution_count": 6,
     "metadata": {},
     "output_type": "execute_result"
    }
   ],
   "source": [
    "df = pd.read_csv('Data/iris.csv')\n",
    "\n",
    "feature_names = df.columns[:4].tolist()\n",
    "target_name = df.columns[4]\n",
    "\n",
    "X = df[feature_names]\n",
    "y = df[target_name]\n",
    "\n",
    "scaler = StandardScaler()\n",
    "X = pd.DataFrame(scaler.fit_transform(X), columns=feature_names)\n",
    "X.head()"
   ]
  },
  {
   "cell_type": "markdown",
   "id": "478c8c89",
   "metadata": {},
   "source": [
    "### Primena PCA"
   ]
  },
  {
   "cell_type": "code",
   "execution_count": 45,
   "id": "7fb3c4b6",
   "metadata": {},
   "outputs": [
    {
     "data": {
      "text/html": [
       "<div>\n",
       "<style scoped>\n",
       "    .dataframe tbody tr th:only-of-type {\n",
       "        vertical-align: middle;\n",
       "    }\n",
       "\n",
       "    .dataframe tbody tr th {\n",
       "        vertical-align: top;\n",
       "    }\n",
       "\n",
       "    .dataframe thead th {\n",
       "        text-align: right;\n",
       "    }\n",
       "</style>\n",
       "<table border=\"1\" class=\"dataframe\">\n",
       "  <thead>\n",
       "    <tr style=\"text-align: right;\">\n",
       "      <th></th>\n",
       "      <th>pca_0</th>\n",
       "      <th>pca_1</th>\n",
       "      <th>pca_2</th>\n",
       "      <th>pca_3</th>\n",
       "    </tr>\n",
       "  </thead>\n",
       "  <tbody>\n",
       "    <tr>\n",
       "      <th>0</th>\n",
       "      <td>-2.264703</td>\n",
       "      <td>0.480027</td>\n",
       "      <td>-0.127706</td>\n",
       "      <td>-0.024168</td>\n",
       "    </tr>\n",
       "    <tr>\n",
       "      <th>1</th>\n",
       "      <td>-2.080961</td>\n",
       "      <td>-0.674134</td>\n",
       "      <td>-0.234609</td>\n",
       "      <td>-0.103007</td>\n",
       "    </tr>\n",
       "    <tr>\n",
       "      <th>2</th>\n",
       "      <td>-2.364229</td>\n",
       "      <td>-0.341908</td>\n",
       "      <td>0.044201</td>\n",
       "      <td>-0.028377</td>\n",
       "    </tr>\n",
       "    <tr>\n",
       "      <th>3</th>\n",
       "      <td>-2.299384</td>\n",
       "      <td>-0.597395</td>\n",
       "      <td>0.091290</td>\n",
       "      <td>0.065956</td>\n",
       "    </tr>\n",
       "    <tr>\n",
       "      <th>4</th>\n",
       "      <td>-2.389842</td>\n",
       "      <td>0.646835</td>\n",
       "      <td>0.015738</td>\n",
       "      <td>0.035923</td>\n",
       "    </tr>\n",
       "  </tbody>\n",
       "</table>\n",
       "</div>"
      ],
      "text/plain": [
       "      pca_0     pca_1     pca_2     pca_3\n",
       "0 -2.264703  0.480027 -0.127706 -0.024168\n",
       "1 -2.080961 -0.674134 -0.234609 -0.103007\n",
       "2 -2.364229 -0.341908  0.044201 -0.028377\n",
       "3 -2.299384 -0.597395  0.091290  0.065956\n",
       "4 -2.389842  0.646835  0.015738  0.035923"
      ]
     },
     "execution_count": 45,
     "metadata": {},
     "output_type": "execute_result"
    }
   ],
   "source": [
    "pca = PCA()\n",
    "pca.fit(X)\n",
    "\n",
    "pca_columns = [f'pca_{i}' for i in range(pca.n_components_)]\n",
    "X_transformed = pd.DataFrame(pca.transform(X), columns=pca_columns)\n",
    "X_transformed.head()"
   ]
  },
  {
   "cell_type": "code",
   "execution_count": 46,
   "id": "95c73569",
   "metadata": {},
   "outputs": [
    {
     "name": "stdout",
     "output_type": "stream",
     "text": [
      "Jednacine po kojima se racunaju glavne komponente:\n",
      "pca_0 = (0.52sepal.length) + (-0.27sepal.width) + (0.58petal.length) + (0.56petal.width)\n",
      "pca_1 = (0.38sepal.length) + (0.92sepal.width) + (0.02petal.length) + (0.07petal.width)\n",
      "pca_2 = (-0.72sepal.length) + (0.24sepal.width) + (0.14petal.length) + (0.63petal.width)\n",
      "pca_3 = (-0.26sepal.length) + (0.12sepal.width) + (0.8petal.length) + (-0.52petal.width)\n"
     ]
    }
   ],
   "source": [
    "print('Jednacine po kojima se racunaju glavne komponente:')\n",
    "for i, component in enumerate(pca.components_):\n",
    "    eq = ' + '.join([ '(' + str(round(coef,2)) + feature_names[j] + ')' for j, coef in enumerate(component)])\n",
    "    print(f'pca_{i} = {eq}')"
   ]
  },
  {
   "cell_type": "code",
   "execution_count": 47,
   "id": "4c68110a",
   "metadata": {},
   "outputs": [
    {
     "name": "stdout",
     "output_type": "stream",
     "text": [
      "Kolicina varijanse svake od glavnih komponenata:\n",
      "pca_0: 2.94\n",
      "pca_1: 0.92\n",
      "pca_2: 0.15\n",
      "pca_3: 0.02\n"
     ]
    }
   ],
   "source": [
    "print('Kolicina varijanse svake od glavnih komponenata:')\n",
    "for pca_i, ev in zip(pca_columns, pca.explained_variance_):\n",
    "    print(f'{pca_i}: {round(ev, 2)}')"
   ]
  },
  {
   "cell_type": "code",
   "execution_count": 48,
   "id": "70ad5cce",
   "metadata": {},
   "outputs": [
    {
     "name": "stdout",
     "output_type": "stream",
     "text": [
      "Procenat varijanse svake od glavnih komponenata:\n",
      "pca_0: 0.73\n",
      "pca_1: 0.23\n",
      "pca_2: 0.04\n",
      "pca_3: 0.01\n"
     ]
    }
   ],
   "source": [
    "print('Procenat varijanse svake od glavnih komponenata:')\n",
    "for pca_i, evr in zip(pca_columns, pca.explained_variance_ratio_):\n",
    "    print(f'{pca_i}: {round(evr, 2)}')"
   ]
  },
  {
   "cell_type": "code",
   "execution_count": 59,
   "id": "5bbd2e89",
   "metadata": {},
   "outputs": [
    {
     "data": {
      "image/png": "[encoded data removed]",
      "text/plain": [
       "<Figure size 1080x360 with 2 Axes>"
      ]
     },
     "metadata": {
      "needs_background": "light"
     },
     "output_type": "display_data"
    }
   ],
   "source": [
    "plt.figure(figsize=(15, 5))\n",
    "plt.subplot(1, 2, 1)\n",
    "plt.bar(pca_columns, pca.explained_variance_ratio_, label='Procenat varijanse')\n",
    "plt.legend()\n",
    "plt.subplot(1, 2, 2)\n",
    "plt.plot(pca_columns,  np.cumsum(pca.explained_variance_ratio_), color='darkorange',\n",
    "         label='Kumulativna varijansa',  marker='o')\n",
    "plt.xlabel('Glavne komponente')\n",
    "plt.ylabel('Procenat varijanse')\n",
    "plt.legend()\n",
    "plt.show()"
   ]
  },
  {
   "cell_type": "code",
   "execution_count": 65,
   "id": "51cbc1a3",
   "metadata": {},
   "outputs": [
    {
     "data": {
      "image/png": "[encoded data removed]",
      "text/plain": [
       "<Figure size 432x288 with 1 Axes>"
      ]
     },
     "metadata": {
      "needs_background": "light"
     },
     "output_type": "display_data"
    }
   ],
   "source": [
    "plt.figure()\n",
    "\n",
    "colors = ['red', 'green', 'blue']\n",
    "\n",
    "classes = np.unique(y)\n",
    "for i, class_name in enumerate(classes):\n",
    "    class_samples = X_transformed.iloc[y[y == class_name].index]\n",
    "    plt.scatter(\n",
    "        class_samples['pca_0'], class_samples['pca_1'], \n",
    "        color=colors[i], label=class_name\n",
    "    )\n",
    "    \n",
    "plt.legend()\n",
    "plt.show()"
   ]
  },
  {
   "cell_type": "markdown",
   "id": "53b42741",
   "metadata": {},
   "source": [
    "## Klasifikacija sa i bez PCA"
   ]
  },
  {
   "cell_type": "markdown",
   "id": "0821e331",
   "metadata": {},
   "source": [
    "### Ucitavanje paketa"
   ]
  },
  {
   "cell_type": "code",
   "execution_count": 66,
   "id": "ca11e129",
   "metadata": {},
   "outputs": [],
   "source": [
    "import numpy as np\n",
    "import pandas as pd\n",
    "import matplotlib.pyplot as plt\n",
    "\n",
    "from sklearn.neighbors import KNeighborsClassifier\n",
    "from sklearn.model_selection import train_test_split, GridSearchCV\n",
    "from sklearn.metrics import accuracy_score, confusion_matrix\n",
    "from sklearn.decomposition import PCA\n",
    "from sklearn.preprocessing import StandardScaler"
   ]
  },
  {
   "cell_type": "markdown",
   "id": "b8e61911",
   "metadata": {},
   "source": [
    "### Preprocesiranje podataka"
   ]
  },
  {
   "cell_type": "code",
   "execution_count": 84,
   "id": "b47b2309",
   "metadata": {},
   "outputs": [
    {
     "name": "stdout",
     "output_type": "stream",
     "text": [
      "pca_0: 0.81\n",
      "pca_1: 0.15\n",
      "pca_2: 0.03\n",
      "pca_3: 0.01\n",
      "pca_4: 0.01\n"
     ]
    }
   ],
   "source": [
    "df = pd.read_csv('Data/car.csv')\n",
    "\n",
    "feature_names = df.columns[1:].tolist()\n",
    "target_name = df.columns[0]\n",
    "\n",
    "X = df[feature_names]\n",
    "y = df[target_name]\n",
    "\n",
    "scaler = StandardScaler()\n",
    "scaler.fit(X)\n",
    "X = pd.DataFrame(scaler.transform(X), columns=feature_names)\n",
    "\n",
    "pca = PCA()\n",
    "pca.fit(X)\n",
    "\n",
    "pca_columns = [f'pca_{i}' for i in range(len(feature_names))]\n",
    "X_transformed = pd.DataFrame(pca.transform(X), columns=pca_columns)\n",
    "\n",
    "for pca_i, evr in zip(pca_columns, pca.explained_variance_ratio_):\n",
    "    print(f'{pca_i}: {round(evr, 2)}')"
   ]
  },
  {
   "cell_type": "markdown",
   "id": "74d923d0",
   "metadata": {},
   "source": [
    "Prve dve glavne komponente opisuju vise od $95\\%$ varijansi. U nastavku klasifikacije mozemo da izbacimo ostale komponente."
   ]
  },
  {
   "cell_type": "code",
   "execution_count": 85,
   "id": "ee0c80c4",
   "metadata": {},
   "outputs": [
    {
     "data": {
      "text/html": [
       "<div>\n",
       "<style scoped>\n",
       "    .dataframe tbody tr th:only-of-type {\n",
       "        vertical-align: middle;\n",
       "    }\n",
       "\n",
       "    .dataframe tbody tr th {\n",
       "        vertical-align: top;\n",
       "    }\n",
       "\n",
       "    .dataframe thead th {\n",
       "        text-align: right;\n",
       "    }\n",
       "</style>\n",
       "<table border=\"1\" class=\"dataframe\">\n",
       "  <thead>\n",
       "    <tr style=\"text-align: right;\">\n",
       "      <th></th>\n",
       "      <th>pca_0</th>\n",
       "      <th>pca_1</th>\n",
       "    </tr>\n",
       "  </thead>\n",
       "  <tbody>\n",
       "    <tr>\n",
       "      <th>0</th>\n",
       "      <td>2.349159</td>\n",
       "      <td>-0.542004</td>\n",
       "    </tr>\n",
       "    <tr>\n",
       "      <th>1</th>\n",
       "      <td>3.174141</td>\n",
       "      <td>-0.682623</td>\n",
       "    </tr>\n",
       "    <tr>\n",
       "      <th>2</th>\n",
       "      <td>2.743127</td>\n",
       "      <td>-0.954471</td>\n",
       "    </tr>\n",
       "    <tr>\n",
       "      <th>3</th>\n",
       "      <td>2.555517</td>\n",
       "      <td>-0.651473</td>\n",
       "    </tr>\n",
       "    <tr>\n",
       "      <th>4</th>\n",
       "      <td>2.604323</td>\n",
       "      <td>-1.107031</td>\n",
       "    </tr>\n",
       "  </tbody>\n",
       "</table>\n",
       "</div>"
      ],
      "text/plain": [
       "      pca_0     pca_1\n",
       "0  2.349159 -0.542004\n",
       "1  3.174141 -0.682623\n",
       "2  2.743127 -0.954471\n",
       "3  2.555517 -0.651473\n",
       "4  2.604323 -1.107031"
      ]
     },
     "execution_count": 85,
     "metadata": {},
     "output_type": "execute_result"
    }
   ],
   "source": [
    "X_transformed = X_transformed[['pca_0', 'pca_1']]\n",
    "X_transformed.head()"
   ]
  },
  {
   "cell_type": "markdown",
   "id": "5b22b660",
   "metadata": {},
   "source": [
    "### Treniranje i Evaluacija Dva Modela"
   ]
  },
  {
   "cell_type": "code",
   "execution_count": 109,
   "id": "170d7a96",
   "metadata": {},
   "outputs": [],
   "source": [
    "def classify(X, y):\n",
    "    X_train, X_test, y_train, y_test = train_test_split(\n",
    "        X, y, test_size=0.33, \n",
    "        stratify=y, random_state=42\n",
    "    )\n",
    "    \n",
    "    params = {\n",
    "        'n_neighbors': range(3, 20, 2),\n",
    "        'p': [1, 2],\n",
    "        'weights': ['uniform', 'distance']\n",
    "    }\n",
    "    \n",
    "    clf = GridSearchCV(KNeighborsClassifier(), param_grid=params, cv=5)\n",
    "    clf.fit(X_train, y_train)\n",
    "    y_pred_train = clf.predict(X_train)\n",
    "    y_pred_test = clf.predict(X_test)\n",
    "    \n",
    "    print('Najbolji parametri', clf.best_params_)\n",
    "    \n",
    "    print('Tacnost modela (Train):')\n",
    "    print(round(accuracy_score(y_train, y_pred_train), 2))\n",
    "    print('Tacnost modela (Test):')\n",
    "    print(round(accuracy_score(y_test, y_pred_test), 2))\n",
    "    print('Matrica konfuzije (Train):')\n",
    "    print(confusion_matrix(y_train, y_pred_train))\n",
    "    print('Matrica konfuzije (Test):')\n",
    "    print(confusion_matrix(y_test, y_pred_test))"
   ]
  },
  {
   "cell_type": "code",
   "execution_count": 110,
   "id": "564e42d6",
   "metadata": {},
   "outputs": [
    {
     "name": "stdout",
     "output_type": "stream",
     "text": [
      "KNN bez PCA:\n",
      "Najbolji parametri {'n_neighbors': 17, 'p': 1, 'weights': 'uniform'}\n",
      "Tacnost modela (Train):\n",
      "0.77\n",
      "Tacnost modela (Test):\n",
      "0.69\n",
      "Matrica konfuzije (Train):\n",
      "[[49  5  0  0]\n",
      " [ 5 81 14  0]\n",
      " [ 0 17 47  0]\n",
      " [ 0  1 10  0]]\n",
      "Matrica konfuzije (Test):\n",
      "[[20  7  0  0]\n",
      " [10 36  3  0]\n",
      " [ 0  9 22  0]\n",
      " [ 0  0  6  0]]\n"
     ]
    }
   ],
   "source": [
    "print('KNN bez PCA:')\n",
    "classify(X, y)"
   ]
  },
  {
   "cell_type": "markdown",
   "id": "10ef9593",
   "metadata": {},
   "source": [
    "Tacnost modela nad trening skupu je $0.77$, dok je na test skupu $0.69$, sto znaci da je doslo do blagog preprilagodjavanja. Iz matrica konfuzije vidimo da je:\n",
    "* Neke instance klase A su pogresno klasifikovane klasom B\n",
    "* Neke instance klase B su pogresno klasifikovane klasom A, i C\n",
    "* Neke instance klase C su pogresno klasifikovane klasom B\n",
    "* Sve instance klase D su pogresno klasifikovane klasom C\n",
    "\n",
    "Mozemo zakljuciti da klasa D nema nikakakvog znacaja po se moze smatrati da je to zapravo klasa C."
   ]
  },
  {
   "cell_type": "code",
   "execution_count": 111,
   "id": "e3994e7b",
   "metadata": {},
   "outputs": [
    {
     "name": "stdout",
     "output_type": "stream",
     "text": [
      "KNN sa PCA:\n",
      "Najbolji parametri {'n_neighbors': 13, 'p': 1, 'weights': 'uniform'}\n",
      "Tacnost modela (Train):\n",
      "0.77\n",
      "Tacnost modela (Test):\n",
      "0.67\n",
      "Matrica konfuzije (Train):\n",
      "[[48  6  0  0]\n",
      " [ 5 82 13  0]\n",
      " [ 0 18 46  0]\n",
      " [ 0  1 10  0]]\n",
      "Matrica konfuzije (Test):\n",
      "[[20  7  0  0]\n",
      " [10 33  6  0]\n",
      " [ 0  8 23  0]\n",
      " [ 0  0  6  0]]\n"
     ]
    }
   ],
   "source": [
    "print('KNN sa PCA:')\n",
    "classify(X_transformed, y)"
   ]
  },
  {
   "cell_type": "markdown",
   "id": "ab94e709",
   "metadata": {},
   "source": [
    "Tacnost modela nad trening skupu je $0.77$, dok je na test skupu $0.67$, sto znaci da je doslo do blagog preprilagodjavanja. Iz matrica konfuzije vidimo da je:\n",
    "* Neke instance klase A su pogresno klasifikovane klasom B\n",
    "* Neke instance klase B su pogresno klasifikovane klasom A, i C\n",
    "* Neke instance klase C su pogresno klasifikovane klasom B\n",
    "* Sve instance klase D su pogresno klasifikovane klasom C\n",
    "\n",
    "Mozemo zakljuciti da klasa D nema nikakakvog znacaja po se moze smatrati da je to zapravo klasa C."
   ]
  },
  {
   "cell_type": "code",
   "execution_count": null,
   "id": "107fea35",
   "metadata": {},
   "outputs": [],
   "source": []
  }
 ],
 "metadata": {
  "kernelspec": {
   "display_name": "Python 3",
   "language": "python",
   "name": "python3"
  },
  "language_info": {
   "codemirror_mode": {
    "name": "ipython",
    "version": 3
   },
   "file_extension": ".py",
   "mimetype": "text/x-python",
   "name": "python",
   "nbconvert_exporter": "python",
   "pygments_lexer": "ipython3",
   "version": "3.9.6"
  }
 },
 "nbformat": 4,
 "nbformat_minor": 5
}
